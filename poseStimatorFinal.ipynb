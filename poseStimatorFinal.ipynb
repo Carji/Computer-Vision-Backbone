{
 "cells": [
  {
   "cell_type": "code",
   "execution_count": 11,
   "metadata": {},
   "outputs": [],
   "source": [
    "import cv2\n",
    "vidcap = cv2.VideoCapture('apple.mp4')\n",
    "def getFrame(sec):\n",
    "    vidcap.set(cv2.CAP_PROP_POS_MSEC,sec*1000)\n",
    "    hasFrames,image = vidcap.read()\n",
    "    if hasFrames:\n",
    "        cv2.imwrite(\"./images/testing/image\"+str(count+10000)+\".jpg\", image)     # save frame as JPG file\n",
    "    return hasFrames\n",
    "sec = 0\n",
    "frameRate = 0.04 #//it will capture image in each 0.04 second\n",
    "count=1\n",
    "success = getFrame(sec)\n",
    "while success:\n",
    "    count = count + 1\n",
    "    sec = sec + frameRate\n",
    "    sec = round(sec, 2)\n",
    "    success = getFrame(sec)"
   ]
  },
  {
   "cell_type": "code",
   "execution_count": 12,
   "metadata": {
    "scrolled": true
   },
   "outputs": [],
   "source": [
    "import cv2\n",
    "import matplotlib.pyplot as plt\n",
    "import numpy as np\n",
    "import glob\n",
    "\n",
    "# Read images with OpenCV.\n",
    "images = {name: cv2.imread(name) for name in glob.glob(\"./images/testing/*.jpg\")}"
   ]
  },
  {
   "cell_type": "code",
   "execution_count": 13,
   "metadata": {},
   "outputs": [],
   "source": [
    "for name, image in images.items():\n",
    "    image =cv2.cvtColor(image, cv2.COLOR_RGB2BGR)\n",
    "#    plt.imshow(image)\n",
    "#    plt.show()\n"
   ]
  },
  {
   "cell_type": "code",
   "execution_count": 14,
   "metadata": {
    "scrolled": true
   },
   "outputs": [],
   "source": [
    "import mediapipe as mp\n",
    "mp_holistic = mp.solutions.holistic\n",
    "\n",
    "#help(mp_holistic.Holistic)"
   ]
  },
  {
   "cell_type": "code",
   "execution_count": 15,
   "metadata": {},
   "outputs": [],
   "source": [
    "# Prepare DrawingSpec for drawing the face landmarks later.\n",
    "mp_drawing = mp.solutions.drawing_utils \n",
    "drawing_spec = mp_drawing.DrawingSpec(thickness=1, circle_radius=1)"
   ]
  },
  {
   "cell_type": "code",
   "execution_count": 16,
   "metadata": {},
   "outputs": [
    {
     "name": "stdout",
     "output_type": "stream",
     "text": [
      "Nose coordinates: (349.4234800338745, 109.38909578323364)\n",
      "Pose landmarks of ./images/testing\\image10001.jpg:\n",
      "Nose coordinates: (349.32864010334015, 109.08723139762878)\n",
      "Pose landmarks of ./images/testing\\image10002.jpg:\n",
      "Nose coordinates: (350.3567010164261, 108.57719385623932)\n",
      "Pose landmarks of ./images/testing\\image10003.jpg:\n",
      "Nose coordinates: (352.66639590263367, 106.57481575012207)\n",
      "Pose landmarks of ./images/testing\\image10004.jpg:\n",
      "Nose coordinates: (354.2827069759369, 105.76922905445099)\n",
      "Pose landmarks of ./images/testing\\image10005.jpg:\n",
      "Nose coordinates: (357.0921063423157, 104.02573871612549)\n",
      "Pose landmarks of ./images/testing\\image10006.jpg:\n",
      "Nose coordinates: (358.0010026693344, 102.91390919685364)\n",
      "Pose landmarks of ./images/testing\\image10007.jpg:\n",
      "Nose coordinates: (360.08321940898895, 103.01941394805908)\n",
      "Pose landmarks of ./images/testing\\image10008.jpg:\n",
      "Nose coordinates: (360.7327729463577, 103.04654741287231)\n",
      "Pose landmarks of ./images/testing\\image10009.jpg:\n",
      "Nose coordinates: (360.6934666633606, 103.63150489330292)\n",
      "Pose landmarks of ./images/testing\\image10010.jpg:\n",
      "Nose coordinates: (360.45543253421783, 103.65438842773438)\n",
      "Pose landmarks of ./images/testing\\image10011.jpg:\n",
      "Nose coordinates: (360.63580214977264, 103.68547809123993)\n",
      "Pose landmarks of ./images/testing\\image10012.jpg:\n",
      "Nose coordinates: (360.5666309595108, 103.79290127754211)\n",
      "Pose landmarks of ./images/testing\\image10013.jpg:\n",
      "Nose coordinates: (360.54961681365967, 103.90828275680542)\n",
      "Pose landmarks of ./images/testing\\image10014.jpg:\n",
      "Nose coordinates: (361.3655745983124, 103.86924397945404)\n",
      "Pose landmarks of ./images/testing\\image10015.jpg:\n",
      "Nose coordinates: (361.8315786123276, 103.89206326007843)\n",
      "Pose landmarks of ./images/testing\\image10016.jpg:\n",
      "Nose coordinates: (362.2628331184387, 103.9057126045227)\n",
      "Pose landmarks of ./images/testing\\image10017.jpg:\n",
      "Nose coordinates: (362.29594349861145, 103.91893970966339)\n",
      "Pose landmarks of ./images/testing\\image10018.jpg:\n",
      "Nose coordinates: (362.3912423849106, 104.13453876972198)\n",
      "Pose landmarks of ./images/testing\\image10019.jpg:\n",
      "Nose coordinates: (361.12163960933685, 104.14897751808167)\n",
      "Pose landmarks of ./images/testing\\image10020.jpg:\n",
      "Nose coordinates: (360.23506820201874, 104.16300320625305)\n",
      "Pose landmarks of ./images/testing\\image10021.jpg:\n"
     ]
    },
    {
     "name": "stderr",
     "output_type": "stream",
     "text": [
      "C:\\Users\\K\\AppData\\Local\\Temp/ipykernel_7404/1719813650.py:37: RuntimeWarning: More than 20 figures have been opened. Figures created through the pyplot interface (`matplotlib.pyplot.figure`) are retained until explicitly closed and may consume too much memory. (To control this warning, see the rcParam `figure.max_open_warning`).\n",
      "  plt.figure(figsize=(10,15))\n"
     ]
    },
    {
     "name": "stdout",
     "output_type": "stream",
     "text": [
      "Nose coordinates: (360.13249158859253, 104.27594304084778)\n",
      "Pose landmarks of ./images/testing\\image10022.jpg:\n",
      "Nose coordinates: (355.4244250059128, 105.05099999904633)\n",
      "Pose landmarks of ./images/testing\\image10023.jpg:\n",
      "Nose coordinates: (353.5752594470978, 105.28980386257172)\n",
      "Pose landmarks of ./images/testing\\image10024.jpg:\n",
      "Nose coordinates: (347.18426764011383, 106.3789701461792)\n",
      "Pose landmarks of ./images/testing\\image10025.jpg:\n",
      "Nose coordinates: (345.43223679065704, 107.13386976718903)\n",
      "Pose landmarks of ./images/testing\\image10026.jpg:\n",
      "Nose coordinates: (344.0491735935211, 107.15966308116913)\n",
      "Pose landmarks of ./images/testing\\image10027.jpg:\n",
      "Nose coordinates: (339.3422544002533, 108.99577987194061)\n",
      "Pose landmarks of ./images/testing\\image10028.jpg:\n",
      "Nose coordinates: (336.64513528347015, 109.68427777290344)\n",
      "Pose landmarks of ./images/testing\\image10029.jpg:\n",
      "Nose coordinates: (329.61635887622833, 110.95922017097473)\n",
      "Pose landmarks of ./images/testing\\image10030.jpg:\n",
      "Nose coordinates: (326.87816321849823, 111.92788302898407)\n",
      "Pose landmarks of ./images/testing\\image10031.jpg:\n",
      "Nose coordinates: (325.9423851966858, 112.77389454841614)\n",
      "Pose landmarks of ./images/testing\\image10032.jpg:\n",
      "Nose coordinates: (319.341978430748, 113.38989579677582)\n",
      "Pose landmarks of ./images/testing\\image10033.jpg:\n",
      "Nose coordinates: (315.347358584404, 114.14840281009674)\n",
      "Pose landmarks of ./images/testing\\image10034.jpg:\n",
      "Nose coordinates: (307.30848610401154, 114.83832347393036)\n",
      "Pose landmarks of ./images/testing\\image10035.jpg:\n",
      "Nose coordinates: (303.139266371727, 115.04915857315063)\n",
      "Pose landmarks of ./images/testing\\image10036.jpg:\n",
      "Nose coordinates: (301.25410556793213, 115.78964698314667)\n",
      "Pose landmarks of ./images/testing\\image10037.jpg:\n",
      "Nose coordinates: (295.20283937454224, 116.19990754127502)\n",
      "Pose landmarks of ./images/testing\\image10038.jpg:\n",
      "Nose coordinates: (289.5962357521057, 116.42932116985321)\n",
      "Pose landmarks of ./images/testing\\image10039.jpg:\n",
      "Nose coordinates: (279.87358570098877, 117.55952727794647)\n",
      "Pose landmarks of ./images/testing\\image10040.jpg:\n",
      "Nose coordinates: (277.67744958400726, 118.02740514278412)\n",
      "Pose landmarks of ./images/testing\\image10041.jpg:\n",
      "Nose coordinates: (277.32995450496674, 118.37428390979767)\n",
      "Pose landmarks of ./images/testing\\image10042.jpg:\n",
      "Nose coordinates: (271.074977517128, 118.67304575443268)\n",
      "Pose landmarks of ./images/testing\\image10043.jpg:\n",
      "Nose coordinates: (268.3775305747986, 119.1969621181488)\n",
      "Pose landmarks of ./images/testing\\image10044.jpg:\n",
      "Nose coordinates: (263.26964795589447, 119.50083673000336)\n",
      "Pose landmarks of ./images/testing\\image10045.jpg:\n",
      "Nose coordinates: (260.54122149944305, 119.57366383075714)\n",
      "Pose landmarks of ./images/testing\\image10046.jpg:\n",
      "Nose coordinates: (258.2042843103409, 119.64764750003815)\n",
      "Pose landmarks of ./images/testing\\image10047.jpg:\n",
      "Nose coordinates: (254.3397292494774, 119.72969961166382)\n",
      "Pose landmarks of ./images/testing\\image10048.jpg:\n",
      "Nose coordinates: (251.73735171556473, 120.21060264110565)\n",
      "Pose landmarks of ./images/testing\\image10049.jpg:\n",
      "Nose coordinates: (245.47675251960754, 120.20200181007385)\n",
      "Pose landmarks of ./images/testing\\image10050.jpg:\n",
      "Nose coordinates: (241.8010249733925, 120.23847961425781)\n",
      "Pose landmarks of ./images/testing\\image10051.jpg:\n",
      "Nose coordinates: (240.60916602611542, 120.28335630893707)\n",
      "Pose landmarks of ./images/testing\\image10052.jpg:\n",
      "Nose coordinates: (238.10125142335892, 120.37796545028687)\n",
      "Pose landmarks of ./images/testing\\image10053.jpg:\n",
      "Nose coordinates: (236.89926266670227, 120.46114659309387)\n",
      "Pose landmarks of ./images/testing\\image10054.jpg:\n",
      "Nose coordinates: (233.98761451244354, 120.51950740814209)\n",
      "Pose landmarks of ./images/testing\\image10055.jpg:\n",
      "Nose coordinates: (233.01982432603836, 120.64635360240936)\n",
      "Pose landmarks of ./images/testing\\image10056.jpg:\n",
      "Nose coordinates: (232.59650319814682, 120.91316294670105)\n",
      "Pose landmarks of ./images/testing\\image10057.jpg:\n",
      "Nose coordinates: (232.18839317560196, 121.62356221675873)\n",
      "Pose landmarks of ./images/testing\\image10058.jpg:\n",
      "Nose coordinates: (231.74717277288437, 122.2131735086441)\n",
      "Pose landmarks of ./images/testing\\image10059.jpg:\n",
      "Nose coordinates: (232.07755535840988, 122.99763906002045)\n",
      "Pose landmarks of ./images/testing\\image10060.jpg:\n",
      "Nose coordinates: (232.5242668390274, 123.58172452449799)\n",
      "Pose landmarks of ./images/testing\\image10061.jpg:\n",
      "Nose coordinates: (232.82049000263214, 124.03844058513641)\n",
      "Pose landmarks of ./images/testing\\image10062.jpg:\n",
      "Nose coordinates: (232.9952210187912, 124.453244805336)\n",
      "Pose landmarks of ./images/testing\\image10063.jpg:\n",
      "Nose coordinates: (233.13984125852585, 124.753622174263)\n",
      "Pose landmarks of ./images/testing\\image10064.jpg:\n",
      "Nose coordinates: (234.45201218128204, 124.90074503421783)\n",
      "Pose landmarks of ./images/testing\\image10065.jpg:\n",
      "Nose coordinates: (235.99856197834015, 124.89411771297455)\n",
      "Pose landmarks of ./images/testing\\image10066.jpg:\n",
      "Nose coordinates: (238.13931196928024, 124.87818276882172)\n",
      "Pose landmarks of ./images/testing\\image10067.jpg:\n",
      "Nose coordinates: (247.15277701616287, 124.8340312242508)\n",
      "Pose landmarks of ./images/testing\\image10068.jpg:\n",
      "Nose coordinates: (248.19750785827637, 124.70679032802582)\n",
      "Pose landmarks of ./images/testing\\image10069.jpg:\n",
      "Nose coordinates: (259.89486426115036, 124.35867238044739)\n",
      "Pose landmarks of ./images/testing\\image10070.jpg:\n",
      "Nose coordinates: (261.7022320628166, 124.15575885772705)\n",
      "Pose landmarks of ./images/testing\\image10071.jpg:\n",
      "Nose coordinates: (260.9021246433258, 124.1966518163681)\n",
      "Pose landmarks of ./images/testing\\image10072.jpg:\n",
      "Nose coordinates: (268.79073828458786, 123.95922482013702)\n",
      "Pose landmarks of ./images/testing\\image10073.jpg:\n",
      "Nose coordinates: (272.6722091436386, 123.3817024230957)\n",
      "Pose landmarks of ./images/testing\\image10074.jpg:\n",
      "Nose coordinates: (281.76395893096924, 122.76576542854309)\n",
      "Pose landmarks of ./images/testing\\image10075.jpg:\n",
      "Nose coordinates: (284.48173105716705, 122.09971964359283)\n",
      "Pose landmarks of ./images/testing\\image10076.jpg:\n",
      "Nose coordinates: (285.93091666698456, 121.02882897853851)\n",
      "Pose landmarks of ./images/testing\\image10077.jpg:\n",
      "Nose coordinates: (295.4831302165985, 119.88627696037292)\n",
      "Pose landmarks of ./images/testing\\image10078.jpg:\n",
      "Nose coordinates: (297.5155830383301, 119.02524840831757)\n",
      "Pose landmarks of ./images/testing\\image10079.jpg:\n",
      "Nose coordinates: (306.9037199020386, 118.35232746601105)\n",
      "Pose landmarks of ./images/testing\\image10080.jpg:\n",
      "Nose coordinates: (308.3553969860077, 117.92433285713196)\n",
      "Pose landmarks of ./images/testing\\image10081.jpg:\n",
      "Nose coordinates: (308.65896344184875, 117.51458632946014)\n",
      "Pose landmarks of ./images/testing\\image10082.jpg:\n",
      "Nose coordinates: (318.2735949754715, 116.4053453207016)\n",
      "Pose landmarks of ./images/testing\\image10083.jpg:\n",
      "Nose coordinates: (320.01743018627167, 115.70808136463165)\n",
      "Pose landmarks of ./images/testing\\image10084.jpg:\n",
      "Nose coordinates: (328.9649039506912, 114.33057153224945)\n",
      "Pose landmarks of ./images/testing\\image10085.jpg:\n",
      "Nose coordinates: (330.3974360227585, 113.73315799236298)\n",
      "Pose landmarks of ./images/testing\\image10086.jpg:\n",
      "Nose coordinates: (331.9099575281143, 113.35948538780212)\n",
      "Pose landmarks of ./images/testing\\image10087.jpg:\n",
      "Nose coordinates: (337.3236685991287, 112.2993985414505)\n",
      "Pose landmarks of ./images/testing\\image10088.jpg:\n",
      "Nose coordinates: (340.1347726583481, 112.29938018321991)\n",
      "Pose landmarks of ./images/testing\\image10089.jpg:\n",
      "Nose coordinates: (348.3686029911041, 110.9870879650116)\n",
      "Pose landmarks of ./images/testing\\image10090.jpg:\n",
      "Nose coordinates: (351.31755769252777, 110.78522086143494)\n",
      "Pose landmarks of ./images/testing\\image10091.jpg:\n",
      "Nose coordinates: (351.9805520772934, 110.51253688335419)\n",
      "Pose landmarks of ./images/testing\\image10092.jpg:\n"
     ]
    },
    {
     "data": {
      "text/plain": [
       "<Figure size 720x1080 with 0 Axes>"
      ]
     },
     "metadata": {},
     "output_type": "display_data"
    },
    {
     "data": {
      "text/plain": [
       "<Figure size 720x1080 with 0 Axes>"
      ]
     },
     "metadata": {},
     "output_type": "display_data"
    },
    {
     "data": {
      "text/plain": [
       "<Figure size 720x1080 with 0 Axes>"
      ]
     },
     "metadata": {},
     "output_type": "display_data"
    },
    {
     "data": {
      "text/plain": [
       "<Figure size 720x1080 with 0 Axes>"
      ]
     },
     "metadata": {},
     "output_type": "display_data"
    },
    {
     "data": {
      "text/plain": [
       "<Figure size 720x1080 with 0 Axes>"
      ]
     },
     "metadata": {},
     "output_type": "display_data"
    },
    {
     "data": {
      "text/plain": [
       "<Figure size 720x1080 with 0 Axes>"
      ]
     },
     "metadata": {},
     "output_type": "display_data"
    },
    {
     "data": {
      "text/plain": [
       "<Figure size 720x1080 with 0 Axes>"
      ]
     },
     "metadata": {},
     "output_type": "display_data"
    },
    {
     "data": {
      "text/plain": [
       "<Figure size 720x1080 with 0 Axes>"
      ]
     },
     "metadata": {},
     "output_type": "display_data"
    },
    {
     "data": {
      "text/plain": [
       "<Figure size 720x1080 with 0 Axes>"
      ]
     },
     "metadata": {},
     "output_type": "display_data"
    },
    {
     "data": {
      "text/plain": [
       "<Figure size 720x1080 with 0 Axes>"
      ]
     },
     "metadata": {},
     "output_type": "display_data"
    },
    {
     "data": {
      "text/plain": [
       "<Figure size 720x1080 with 0 Axes>"
      ]
     },
     "metadata": {},
     "output_type": "display_data"
    },
    {
     "data": {
      "text/plain": [
       "<Figure size 720x1080 with 0 Axes>"
      ]
     },
     "metadata": {},
     "output_type": "display_data"
    },
    {
     "data": {
      "text/plain": [
       "<Figure size 720x1080 with 0 Axes>"
      ]
     },
     "metadata": {},
     "output_type": "display_data"
    },
    {
     "data": {
      "text/plain": [
       "<Figure size 720x1080 with 0 Axes>"
      ]
     },
     "metadata": {},
     "output_type": "display_data"
    },
    {
     "data": {
      "text/plain": [
       "<Figure size 720x1080 with 0 Axes>"
      ]
     },
     "metadata": {},
     "output_type": "display_data"
    },
    {
     "data": {
      "text/plain": [
       "<Figure size 720x1080 with 0 Axes>"
      ]
     },
     "metadata": {},
     "output_type": "display_data"
    },
    {
     "data": {
      "text/plain": [
       "<Figure size 720x1080 with 0 Axes>"
      ]
     },
     "metadata": {},
     "output_type": "display_data"
    },
    {
     "data": {
      "text/plain": [
       "<Figure size 720x1080 with 0 Axes>"
      ]
     },
     "metadata": {},
     "output_type": "display_data"
    },
    {
     "data": {
      "text/plain": [
       "<Figure size 720x1080 with 0 Axes>"
      ]
     },
     "metadata": {},
     "output_type": "display_data"
    },
    {
     "data": {
      "text/plain": [
       "<Figure size 720x1080 with 0 Axes>"
      ]
     },
     "metadata": {},
     "output_type": "display_data"
    },
    {
     "data": {
      "text/plain": [
       "<Figure size 720x1080 with 0 Axes>"
      ]
     },
     "metadata": {},
     "output_type": "display_data"
    },
    {
     "data": {
      "text/plain": [
       "<Figure size 720x1080 with 0 Axes>"
      ]
     },
     "metadata": {},
     "output_type": "display_data"
    },
    {
     "data": {
      "text/plain": [
       "<Figure size 720x1080 with 0 Axes>"
      ]
     },
     "metadata": {},
     "output_type": "display_data"
    },
    {
     "data": {
      "text/plain": [
       "<Figure size 720x1080 with 0 Axes>"
      ]
     },
     "metadata": {},
     "output_type": "display_data"
    },
    {
     "data": {
      "text/plain": [
       "<Figure size 720x1080 with 0 Axes>"
      ]
     },
     "metadata": {},
     "output_type": "display_data"
    },
    {
     "data": {
      "text/plain": [
       "<Figure size 720x1080 with 0 Axes>"
      ]
     },
     "metadata": {},
     "output_type": "display_data"
    },
    {
     "data": {
      "text/plain": [
       "<Figure size 720x1080 with 0 Axes>"
      ]
     },
     "metadata": {},
     "output_type": "display_data"
    },
    {
     "data": {
      "text/plain": [
       "<Figure size 720x1080 with 0 Axes>"
      ]
     },
     "metadata": {},
     "output_type": "display_data"
    },
    {
     "data": {
      "text/plain": [
       "<Figure size 720x1080 with 0 Axes>"
      ]
     },
     "metadata": {},
     "output_type": "display_data"
    },
    {
     "data": {
      "text/plain": [
       "<Figure size 720x1080 with 0 Axes>"
      ]
     },
     "metadata": {},
     "output_type": "display_data"
    },
    {
     "data": {
      "text/plain": [
       "<Figure size 720x1080 with 0 Axes>"
      ]
     },
     "metadata": {},
     "output_type": "display_data"
    },
    {
     "data": {
      "text/plain": [
       "<Figure size 720x1080 with 0 Axes>"
      ]
     },
     "metadata": {},
     "output_type": "display_data"
    },
    {
     "data": {
      "text/plain": [
       "<Figure size 720x1080 with 0 Axes>"
      ]
     },
     "metadata": {},
     "output_type": "display_data"
    },
    {
     "data": {
      "text/plain": [
       "<Figure size 720x1080 with 0 Axes>"
      ]
     },
     "metadata": {},
     "output_type": "display_data"
    },
    {
     "data": {
      "text/plain": [
       "<Figure size 720x1080 with 0 Axes>"
      ]
     },
     "metadata": {},
     "output_type": "display_data"
    },
    {
     "data": {
      "text/plain": [
       "<Figure size 720x1080 with 0 Axes>"
      ]
     },
     "metadata": {},
     "output_type": "display_data"
    },
    {
     "data": {
      "text/plain": [
       "<Figure size 720x1080 with 0 Axes>"
      ]
     },
     "metadata": {},
     "output_type": "display_data"
    },
    {
     "data": {
      "text/plain": [
       "<Figure size 720x1080 with 0 Axes>"
      ]
     },
     "metadata": {},
     "output_type": "display_data"
    },
    {
     "data": {
      "text/plain": [
       "<Figure size 720x1080 with 0 Axes>"
      ]
     },
     "metadata": {},
     "output_type": "display_data"
    },
    {
     "data": {
      "text/plain": [
       "<Figure size 720x1080 with 0 Axes>"
      ]
     },
     "metadata": {},
     "output_type": "display_data"
    },
    {
     "data": {
      "text/plain": [
       "<Figure size 720x1080 with 0 Axes>"
      ]
     },
     "metadata": {},
     "output_type": "display_data"
    },
    {
     "data": {
      "text/plain": [
       "<Figure size 720x1080 with 0 Axes>"
      ]
     },
     "metadata": {},
     "output_type": "display_data"
    },
    {
     "data": {
      "text/plain": [
       "<Figure size 720x1080 with 0 Axes>"
      ]
     },
     "metadata": {},
     "output_type": "display_data"
    },
    {
     "data": {
      "text/plain": [
       "<Figure size 720x1080 with 0 Axes>"
      ]
     },
     "metadata": {},
     "output_type": "display_data"
    },
    {
     "data": {
      "text/plain": [
       "<Figure size 720x1080 with 0 Axes>"
      ]
     },
     "metadata": {},
     "output_type": "display_data"
    },
    {
     "data": {
      "text/plain": [
       "<Figure size 720x1080 with 0 Axes>"
      ]
     },
     "metadata": {},
     "output_type": "display_data"
    },
    {
     "data": {
      "text/plain": [
       "<Figure size 720x1080 with 0 Axes>"
      ]
     },
     "metadata": {},
     "output_type": "display_data"
    },
    {
     "data": {
      "text/plain": [
       "<Figure size 720x1080 with 0 Axes>"
      ]
     },
     "metadata": {},
     "output_type": "display_data"
    },
    {
     "data": {
      "text/plain": [
       "<Figure size 720x1080 with 0 Axes>"
      ]
     },
     "metadata": {},
     "output_type": "display_data"
    },
    {
     "data": {
      "text/plain": [
       "<Figure size 720x1080 with 0 Axes>"
      ]
     },
     "metadata": {},
     "output_type": "display_data"
    },
    {
     "data": {
      "text/plain": [
       "<Figure size 720x1080 with 0 Axes>"
      ]
     },
     "metadata": {},
     "output_type": "display_data"
    },
    {
     "data": {
      "text/plain": [
       "<Figure size 720x1080 with 0 Axes>"
      ]
     },
     "metadata": {},
     "output_type": "display_data"
    },
    {
     "data": {
      "text/plain": [
       "<Figure size 720x1080 with 0 Axes>"
      ]
     },
     "metadata": {},
     "output_type": "display_data"
    },
    {
     "data": {
      "text/plain": [
       "<Figure size 720x1080 with 0 Axes>"
      ]
     },
     "metadata": {},
     "output_type": "display_data"
    },
    {
     "data": {
      "text/plain": [
       "<Figure size 720x1080 with 0 Axes>"
      ]
     },
     "metadata": {},
     "output_type": "display_data"
    },
    {
     "data": {
      "text/plain": [
       "<Figure size 720x1080 with 0 Axes>"
      ]
     },
     "metadata": {},
     "output_type": "display_data"
    },
    {
     "data": {
      "text/plain": [
       "<Figure size 720x1080 with 0 Axes>"
      ]
     },
     "metadata": {},
     "output_type": "display_data"
    },
    {
     "data": {
      "text/plain": [
       "<Figure size 720x1080 with 0 Axes>"
      ]
     },
     "metadata": {},
     "output_type": "display_data"
    },
    {
     "data": {
      "text/plain": [
       "<Figure size 720x1080 with 0 Axes>"
      ]
     },
     "metadata": {},
     "output_type": "display_data"
    },
    {
     "data": {
      "text/plain": [
       "<Figure size 720x1080 with 0 Axes>"
      ]
     },
     "metadata": {},
     "output_type": "display_data"
    },
    {
     "data": {
      "text/plain": [
       "<Figure size 720x1080 with 0 Axes>"
      ]
     },
     "metadata": {},
     "output_type": "display_data"
    },
    {
     "data": {
      "text/plain": [
       "<Figure size 720x1080 with 0 Axes>"
      ]
     },
     "metadata": {},
     "output_type": "display_data"
    },
    {
     "data": {
      "text/plain": [
       "<Figure size 720x1080 with 0 Axes>"
      ]
     },
     "metadata": {},
     "output_type": "display_data"
    },
    {
     "data": {
      "text/plain": [
       "<Figure size 720x1080 with 0 Axes>"
      ]
     },
     "metadata": {},
     "output_type": "display_data"
    },
    {
     "data": {
      "text/plain": [
       "<Figure size 720x1080 with 0 Axes>"
      ]
     },
     "metadata": {},
     "output_type": "display_data"
    },
    {
     "data": {
      "text/plain": [
       "<Figure size 720x1080 with 0 Axes>"
      ]
     },
     "metadata": {},
     "output_type": "display_data"
    },
    {
     "data": {
      "text/plain": [
       "<Figure size 720x1080 with 0 Axes>"
      ]
     },
     "metadata": {},
     "output_type": "display_data"
    },
    {
     "data": {
      "text/plain": [
       "<Figure size 720x1080 with 0 Axes>"
      ]
     },
     "metadata": {},
     "output_type": "display_data"
    },
    {
     "data": {
      "text/plain": [
       "<Figure size 720x1080 with 0 Axes>"
      ]
     },
     "metadata": {},
     "output_type": "display_data"
    },
    {
     "data": {
      "text/plain": [
       "<Figure size 720x1080 with 0 Axes>"
      ]
     },
     "metadata": {},
     "output_type": "display_data"
    },
    {
     "data": {
      "text/plain": [
       "<Figure size 720x1080 with 0 Axes>"
      ]
     },
     "metadata": {},
     "output_type": "display_data"
    },
    {
     "data": {
      "text/plain": [
       "<Figure size 720x1080 with 0 Axes>"
      ]
     },
     "metadata": {},
     "output_type": "display_data"
    },
    {
     "data": {
      "text/plain": [
       "<Figure size 720x1080 with 0 Axes>"
      ]
     },
     "metadata": {},
     "output_type": "display_data"
    },
    {
     "data": {
      "text/plain": [
       "<Figure size 720x1080 with 0 Axes>"
      ]
     },
     "metadata": {},
     "output_type": "display_data"
    },
    {
     "data": {
      "text/plain": [
       "<Figure size 720x1080 with 0 Axes>"
      ]
     },
     "metadata": {},
     "output_type": "display_data"
    },
    {
     "data": {
      "text/plain": [
       "<Figure size 720x1080 with 0 Axes>"
      ]
     },
     "metadata": {},
     "output_type": "display_data"
    },
    {
     "data": {
      "text/plain": [
       "<Figure size 720x1080 with 0 Axes>"
      ]
     },
     "metadata": {},
     "output_type": "display_data"
    },
    {
     "data": {
      "text/plain": [
       "<Figure size 720x1080 with 0 Axes>"
      ]
     },
     "metadata": {},
     "output_type": "display_data"
    },
    {
     "data": {
      "text/plain": [
       "<Figure size 720x1080 with 0 Axes>"
      ]
     },
     "metadata": {},
     "output_type": "display_data"
    },
    {
     "data": {
      "text/plain": [
       "<Figure size 720x1080 with 0 Axes>"
      ]
     },
     "metadata": {},
     "output_type": "display_data"
    },
    {
     "data": {
      "text/plain": [
       "<Figure size 720x1080 with 0 Axes>"
      ]
     },
     "metadata": {},
     "output_type": "display_data"
    },
    {
     "data": {
      "text/plain": [
       "<Figure size 720x1080 with 0 Axes>"
      ]
     },
     "metadata": {},
     "output_type": "display_data"
    },
    {
     "data": {
      "text/plain": [
       "<Figure size 720x1080 with 0 Axes>"
      ]
     },
     "metadata": {},
     "output_type": "display_data"
    },
    {
     "data": {
      "text/plain": [
       "<Figure size 720x1080 with 0 Axes>"
      ]
     },
     "metadata": {},
     "output_type": "display_data"
    },
    {
     "data": {
      "text/plain": [
       "<Figure size 720x1080 with 0 Axes>"
      ]
     },
     "metadata": {},
     "output_type": "display_data"
    },
    {
     "data": {
      "text/plain": [
       "<Figure size 720x1080 with 0 Axes>"
      ]
     },
     "metadata": {},
     "output_type": "display_data"
    },
    {
     "data": {
      "text/plain": [
       "<Figure size 720x1080 with 0 Axes>"
      ]
     },
     "metadata": {},
     "output_type": "display_data"
    },
    {
     "data": {
      "text/plain": [
       "<Figure size 720x1080 with 0 Axes>"
      ]
     },
     "metadata": {},
     "output_type": "display_data"
    },
    {
     "data": {
      "text/plain": [
       "<Figure size 720x1080 with 0 Axes>"
      ]
     },
     "metadata": {},
     "output_type": "display_data"
    },
    {
     "data": {
      "text/plain": [
       "<Figure size 720x1080 with 0 Axes>"
      ]
     },
     "metadata": {},
     "output_type": "display_data"
    },
    {
     "data": {
      "text/plain": [
       "<Figure size 720x1080 with 0 Axes>"
      ]
     },
     "metadata": {},
     "output_type": "display_data"
    },
    {
     "data": {
      "text/plain": [
       "<Figure size 720x1080 with 0 Axes>"
      ]
     },
     "metadata": {},
     "output_type": "display_data"
    }
   ],
   "source": [
    "# Initialize MediaPipe Holistic.\n",
    "i=0\n",
    "img_array = []\n",
    "with mp_holistic.Holistic(\n",
    "    static_image_mode=False,min_detection_confidence=0.5,min_tracking_confidence =0.7,model_complexity =2) as holistic:\n",
    "  for name, image in images.items():\n",
    "    # Convert the BGR image to RGB and process it with MediaPipe Pose.\n",
    "    results = holistic.process(cv2.cvtColor(image, cv2.COLOR_BGR2RGB))\n",
    "\n",
    "    # Print nose coordinates.\n",
    "    image_hight, image_width, _ = image.shape\n",
    "    if results.pose_landmarks:\n",
    "      print(\n",
    "        f'Nose coordinates: ('\n",
    "        f'{results.pose_landmarks.landmark[mp_holistic.PoseLandmark.NOSE].x * image_width}, '\n",
    "        f'{results.pose_landmarks.landmark[mp_holistic.PoseLandmark.NOSE].y * image_hight})'\n",
    "      )\n",
    "    # Draw pose landmarks.\n",
    "    print(f'Pose landmarks of {name}:')\n",
    "    annotated_image = image.copy()\n",
    "    mp_drawing.draw_landmarks(annotated_image, results.left_hand_landmarks, mp_holistic.HAND_CONNECTIONS)\n",
    "    mp_drawing.draw_landmarks(annotated_image, results.right_hand_landmarks, mp_holistic.HAND_CONNECTIONS)\n",
    "    mp_drawing.draw_landmarks(\n",
    "        image=annotated_image, \n",
    "        landmark_list=results.face_landmarks, \n",
    "        connections=mp_holistic.FACEMESH_TESSELATION,\n",
    "        landmark_drawing_spec=drawing_spec,\n",
    "        connection_drawing_spec=drawing_spec)\n",
    "    mp_drawing.draw_landmarks(\n",
    "        image=annotated_image, \n",
    "        landmark_list=results.pose_landmarks, \n",
    "        connections=mp_holistic.POSE_CONNECTIONS,\n",
    "        landmark_drawing_spec=drawing_spec,\n",
    "        connection_drawing_spec=drawing_spec)\n",
    "    #cv2_imshow(annotated_image)\n",
    "    #cv2.imwrite(\"imag1\", annotated_image)\n",
    "    plt.figure(figsize=(10,15))\n",
    "#    plt.imshow(annotated_image)\n",
    "#    plt.show()\n",
    "    height, width, layers = image.shape\n",
    "    size = (width,height)\n",
    "    img_array.append(annotated_image)\n",
    " \n",
    " \n",
    "out = cv2.VideoWriter('projectYOGA.avi',cv2.VideoWriter_fourcc(*'DIVX'), 24, size)\n",
    " \n",
    "for i in range(len(img_array)):\n",
    "    out.write(img_array[i])\n",
    "out.release()"
   ]
  }
 ],
 "metadata": {
  "interpreter": {
   "hash": "1ccc2e60edeb4d498c2b0acab7ca2dcfc0a3e4f99264e4d9040c131c36322ec9"
  },
  "kernelspec": {
   "display_name": "Python 3.9.7 64-bit",
   "name": "python3"
  },
  "language_info": {
   "codemirror_mode": {
    "name": "ipython",
    "version": 3
   },
   "file_extension": ".py",
   "mimetype": "text/x-python",
   "name": "python",
   "nbconvert_exporter": "python",
   "pygments_lexer": "ipython3",
   "version": "3.9.7"
  }
 },
 "nbformat": 4,
 "nbformat_minor": 4
}
