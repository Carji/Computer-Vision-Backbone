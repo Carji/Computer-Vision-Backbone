{
 "cells": [
  {
   "cell_type": "code",
   "execution_count": null,
   "metadata": {},
   "outputs": [],
   "source": [
    "!pip install mediapipe"
   ]
  },
  {
   "cell_type": "code",
   "execution_count": null,
   "metadata": {},
   "outputs": [],
   "source": [
    "!pip install opencv-python"
   ]
  },
  {
   "cell_type": "code",
   "execution_count": null,
   "metadata": {},
   "outputs": [],
   "source": [
    "#MediaPipe\n",
    "\n",
    "MediaPipe offers open source cross-platform, customizable ML solutions for live and streaming media. \n",
    "End-to-End acceleration: Built-in fast ML inference and processing accelerated even on common hardware. \n",
    "Build once, deploy anywhere: Unified solution works across Android, iOS, desktop/cloud, web and IoT."
   ]
  },
  {
   "cell_type": "code",
   "execution_count": null,
   "metadata": {},
   "outputs": [],
   "source": [
    "#face mesh 3d with body pose on images"
   ]
  },
  {
   "cell_type": "code",
   "execution_count": 3,
   "metadata": {
    "scrolled": true
   },
   "outputs": [],
   "source": [
    "import cv2\n",
    "import matplotlib.pyplot as plt\n",
    "import numpy as np\n",
    "import glob\n",
    "\n",
    "# Read images with OpenCV.\n",
    "images = {name: cv2.imread(name) for name in glob.glob(\"./images/testing/*.jpg\")}"
   ]
  },
  {
   "cell_type": "code",
   "execution_count": 4,
   "metadata": {},
   "outputs": [],
   "source": [
    "for name, image in images.items():\n",
    "    image =cv2.cvtColor(image, cv2.COLOR_RGB2BGR)\n",
    "#    plt.imshow(image)\n",
    "#    plt.show()\n"
   ]
  },
  {
   "cell_type": "code",
   "execution_count": 5,
   "metadata": {
    "scrolled": true
   },
   "outputs": [],
   "source": [
    "import mediapipe as mp\n",
    "mp_holistic = mp.solutions.holistic\n",
    "\n",
    "#help(mp_holistic.Holistic)"
   ]
  },
  {
   "cell_type": "code",
   "execution_count": 6,
   "metadata": {},
   "outputs": [],
   "source": [
    "# Prepare DrawingSpec for drawing the face landmarks later.\n",
    "mp_drawing = mp.solutions.drawing_utils \n",
    "drawing_spec = mp_drawing.DrawingSpec(thickness=1, circle_radius=1)"
   ]
  },
  {
   "cell_type": "code",
   "execution_count": null,
   "metadata": {},
   "outputs": [],
   "source": []
  },
  {
   "cell_type": "code",
   "execution_count": null,
   "metadata": {},
   "outputs": [],
   "source": []
  },
  {
   "cell_type": "code",
   "execution_count": null,
   "metadata": {},
   "outputs": [],
   "source": []
  },
  {
   "cell_type": "code",
   "execution_count": null,
   "metadata": {},
   "outputs": [],
   "source": []
  },
  {
   "cell_type": "code",
   "execution_count": null,
   "metadata": {},
   "outputs": [],
   "source": []
  },
  {
   "cell_type": "code",
   "execution_count": null,
   "metadata": {},
   "outputs": [],
   "source": []
  },
  {
   "cell_type": "code",
   "execution_count": null,
   "metadata": {},
   "outputs": [],
   "source": []
  },
  {
   "cell_type": "code",
   "execution_count": 9,
   "metadata": {},
   "outputs": [],
   "source": [
    "# Initialize MediaPipe Pose.\n",
    "import cv2\n",
    "import time\n",
    "import mediapipe as mp\n",
    "\n",
    "\n",
    "class PoseDetector:\n",
    "\n",
    "    def __init__(self, mode = False, upBody = False, smooth=True, detectionCon = 0.5, trackCon = 0.5):\n",
    "\n",
    "        self.mode = mode\n",
    "        self.upBody = upBody\n",
    "        self.smooth = smooth\n",
    "        self.detectionCon = detectionCon\n",
    "        self.trackCon = trackCon\n",
    "\n",
    "        self.mpDraw = mp.solutions.drawing_utils\n",
    "        self.mpPose = mp.solutions.pose\n",
    "        self.pose = self.mpPose.Pose(self.mode, self.upBody, self.smooth, self.detectionCon, self.trackCon)\n",
    "\n",
    "    def findPose(self, img, draw=True):\n",
    "        imgRGB = cv2.cvtColor(img, cv2.COLOR_BGR2RGB)\n",
    "        self.results = self.pose.process(imgRGB)\n",
    "        if self.results.pose_landmarks:\n",
    "            if draw:\n",
    "                self.mpDraw.draw_landmarks(img, self.results.pose_landmarks, self.mpPose.POSE_CONNECTIONS)\n",
    "\n",
    "        return img, self.results.pose_landmarks, self.mpPose.POSE_CONNECTIONS\n",
    "\n",
    "    def getPosition(self, img, draw=True):\n",
    "        lmList= []\n",
    "        if self.results.pose_landmarks:\n",
    "            for id, lm in enumerate(self.results.pose_landmarks.landmark):\n",
    "                h, w, c = img.shape\n",
    "                cx, cy = int(lm.x * w), int(lm.y * h)\n",
    "                lmList.append([id, cx, cy])\n",
    "                if draw:\n",
    "                    cv2.circle(img, (cx, cy), 5, (255, 0, 0), cv2.FILLED)\n",
    "        return lmList\n",
    "\n",
    "\n",
    "\n",
    "\n",
    "pTime = 0\n",
    "cap = cv2.VideoCapture(0)\n",
    "\n",
    "detector = PoseDetector()\n",
    "\n",
    "\n",
    "\n",
    "\n",
    "\n",
    "\n",
    "\n",
    "\n",
    "\n",
    "\n",
    "\n",
    "\n",
    "\n",
    "\n",
    "\n",
    "i=0\n",
    "img_array = []\n",
    "\n",
    "for name, image in images.items():\n",
    "    # Convert the BGR image to RGB and process it with MediaPipe Pose.\n",
    "\n",
    "\n",
    "    img, p_landmarks, p_connections = detector.findPose(image, False)\n",
    "    \n",
    "    \n",
    "    # draw points\n",
    "    mp.solutions.drawing_utils.draw_landmarks(img, p_landmarks, p_connections)\n",
    "    lmList = detector.getPosition(img)\n",
    "#    plt.imshow(annotated_image)\n",
    "#    plt.show()\n",
    "    height, width, layers = img.shape\n",
    "    size = (width,height)\n",
    "    img_array.append(img)\n",
    " \n",
    " \n",
    "out = cv2.VideoWriter('projectYOGA-POSE.avi',cv2.VideoWriter_fourcc(*'DIVX'), 24, size)\n",
    " \n",
    "for i in range(len(img_array)):\n",
    "    out.write(img_array[i])\n",
    "out.release()"
   ]
  },
  {
   "cell_type": "code",
   "execution_count": 12,
   "metadata": {},
   "outputs": [
    {
     "name": "stdout",
     "output_type": "stream",
     "text": [
      "Pose landmarks of ./images/testing\\image10001.jpg:\n",
      "Pose landmarks of ./images/testing\\image10002.jpg:\n",
      "Nose coordinates: (210.30799627304077, 218.10968017578125)\n",
      "Pose landmarks of ./images/testing\\image10003.jpg:\n",
      "Nose coordinates: (213.67441534996033, 218.95660400390625)\n",
      "Pose landmarks of ./images/testing\\image10004.jpg:\n",
      "Nose coordinates: (212.70280122756958, 221.44407653808594)\n",
      "Pose landmarks of ./images/testing\\image10005.jpg:\n",
      "Nose coordinates: (212.30415523052216, 222.32736206054688)\n",
      "Pose landmarks of ./images/testing\\image10006.jpg:\n",
      "Nose coordinates: (212.52109229564667, 222.8578643798828)\n",
      "Pose landmarks of ./images/testing\\image10007.jpg:\n",
      "Nose coordinates: (213.71760964393616, 224.38465881347656)\n",
      "Pose landmarks of ./images/testing\\image10008.jpg:\n",
      "Nose coordinates: (214.3696117401123, 224.0242156982422)\n",
      "Pose landmarks of ./images/testing\\image10009.jpg:\n",
      "Nose coordinates: (214.4388771057129, 222.40492248535156)\n",
      "Pose landmarks of ./images/testing\\image10010.jpg:\n",
      "Nose coordinates: (214.3289279937744, 222.6940460205078)\n",
      "Pose landmarks of ./images/testing\\image10011.jpg:\n",
      "Nose coordinates: (215.26838779449463, 223.2949676513672)\n",
      "Pose landmarks of ./images/testing\\image10012.jpg:\n",
      "Nose coordinates: (215.61210751533508, 223.20315551757812)\n",
      "Pose landmarks of ./images/testing\\image10013.jpg:\n",
      "Nose coordinates: (214.88707423210144, 222.62513732910156)\n",
      "Pose landmarks of ./images/testing\\image10014.jpg:\n",
      "Nose coordinates: (214.87772405147552, 222.38462829589844)\n",
      "Pose landmarks of ./images/testing\\image10015.jpg:\n",
      "Nose coordinates: (214.8895525932312, 223.0026397705078)\n",
      "Pose landmarks of ./images/testing\\image10016.jpg:\n",
      "Nose coordinates: (215.22221624851227, 223.2635955810547)\n",
      "Pose landmarks of ./images/testing\\image10017.jpg:\n",
      "Nose coordinates: (214.8472273349762, 223.4464111328125)\n",
      "Pose landmarks of ./images/testing\\image10018.jpg:\n",
      "Nose coordinates: (214.86620128154755, 223.97857666015625)\n",
      "Pose landmarks of ./images/testing\\image10019.jpg:\n",
      "Nose coordinates: (214.7462260723114, 222.92922973632812)\n",
      "Pose landmarks of ./images/testing\\image10020.jpg:\n",
      "Nose coordinates: (215.02573370933533, 223.2500457763672)\n",
      "Pose landmarks of ./images/testing\\image10021.jpg:\n",
      "Nose coordinates: (215.33976137638092, 223.41783142089844)\n",
      "Pose landmarks of ./images/testing\\image10022.jpg:\n"
     ]
    },
    {
     "name": "stderr",
     "output_type": "stream",
     "text": [
      "C:\\Users\\K\\anaconda3\\envs\\sketchML\\lib\\site-packages\\ipykernel_launcher.py:37: RuntimeWarning: More than 20 figures have been opened. Figures created through the pyplot interface (`matplotlib.pyplot.figure`) are retained until explicitly closed and may consume too much memory. (To control this warning, see the rcParam `figure.max_open_warning`).\n"
     ]
    },
    {
     "name": "stdout",
     "output_type": "stream",
     "text": [
      "Nose coordinates: (215.66003322601318, 223.65855407714844)\n",
      "Pose landmarks of ./images/testing\\image10023.jpg:\n",
      "Nose coordinates: (215.66986620426178, 225.9799346923828)\n",
      "Pose landmarks of ./images/testing\\image10024.jpg:\n",
      "Nose coordinates: (215.76389908790588, 228.43798828125)\n",
      "Pose landmarks of ./images/testing\\image10025.jpg:\n",
      "Nose coordinates: (215.8204025030136, 229.82081604003906)\n",
      "Pose landmarks of ./images/testing\\image10026.jpg:\n",
      "Nose coordinates: (215.5859398841858, 232.29739379882812)\n",
      "Pose landmarks of ./images/testing\\image10027.jpg:\n",
      "Nose coordinates: (215.1009213924408, 233.90093994140625)\n",
      "Pose landmarks of ./images/testing\\image10028.jpg:\n",
      "Nose coordinates: (215.1668232679367, 234.74160766601562)\n",
      "Pose landmarks of ./images/testing\\image10029.jpg:\n",
      "Nose coordinates: (215.1884365081787, 238.6619415283203)\n",
      "Pose landmarks of ./images/testing\\image10030.jpg:\n",
      "Nose coordinates: (215.48274993896484, 240.1597137451172)\n",
      "Pose landmarks of ./images/testing\\image10031.jpg:\n",
      "Nose coordinates: (216.1397248506546, 244.12997436523438)\n",
      "Pose landmarks of ./images/testing\\image10032.jpg:\n",
      "Nose coordinates: (216.07565760612488, 244.7344970703125)\n",
      "Pose landmarks of ./images/testing\\image10033.jpg:\n",
      "Nose coordinates: (216.62723779678345, 245.75962829589844)\n",
      "Pose landmarks of ./images/testing\\image10034.jpg:\n",
      "Nose coordinates: (216.452094912529, 250.65640258789062)\n",
      "Pose landmarks of ./images/testing\\image10035.jpg:\n",
      "Nose coordinates: (213.7833023071289, 255.368896484375)\n",
      "Pose landmarks of ./images/testing\\image10036.jpg:\n",
      "Nose coordinates: (211.4763343334198, 259.4822692871094)\n",
      "Pose landmarks of ./images/testing\\image10037.jpg:\n",
      "Nose coordinates: (209.23016667366028, 257.7000732421875)\n",
      "Pose landmarks of ./images/testing\\image10038.jpg:\n",
      "Nose coordinates: (204.6334344148636, 265.50469970703125)\n",
      "Pose landmarks of ./images/testing\\image10039.jpg:\n",
      "Nose coordinates: (203.67434084415436, 268.5018310546875)\n",
      "Pose landmarks of ./images/testing\\image10040.jpg:\n",
      "Nose coordinates: (200.7304984331131, 274.2263488769531)\n",
      "Pose landmarks of ./images/testing\\image10041.jpg:\n",
      "Nose coordinates: (199.91901218891144, 280.75970458984375)\n",
      "Pose landmarks of ./images/testing\\image10042.jpg:\n",
      "Nose coordinates: (197.71774470806122, 288.2437438964844)\n",
      "Pose landmarks of ./images/testing\\image10043.jpg:\n",
      "Nose coordinates: (195.63267052173615, 293.7447509765625)\n",
      "Pose landmarks of ./images/testing\\image10044.jpg:\n",
      "Nose coordinates: (194.71857368946075, 297.73223876953125)\n",
      "Pose landmarks of ./images/testing\\image10045.jpg:\n",
      "Nose coordinates: (193.51420283317566, 303.41400146484375)\n",
      "Pose landmarks of ./images/testing\\image10046.jpg:\n",
      "Nose coordinates: (192.80774116516113, 309.3791198730469)\n",
      "Pose landmarks of ./images/testing\\image10047.jpg:\n",
      "Nose coordinates: (191.0476702451706, 320.44403076171875)\n",
      "Pose landmarks of ./images/testing\\image10048.jpg:\n",
      "Nose coordinates: (189.06642973423004, 326.69830322265625)\n",
      "Pose landmarks of ./images/testing\\image10049.jpg:\n",
      "Nose coordinates: (188.5368651151657, 334.95751953125)\n",
      "Pose landmarks of ./images/testing\\image10050.jpg:\n",
      "Nose coordinates: (186.6151213645935, 344.7584228515625)\n",
      "Pose landmarks of ./images/testing\\image10051.jpg:\n",
      "Nose coordinates: (184.2372626066208, 350.59832763671875)\n",
      "Pose landmarks of ./images/testing\\image10052.jpg:\n",
      "Nose coordinates: (182.1018648147583, 357.2107238769531)\n",
      "Pose landmarks of ./images/testing\\image10053.jpg:\n",
      "Nose coordinates: (180.7440447807312, 365.9974670410156)\n",
      "Pose landmarks of ./images/testing\\image10054.jpg:\n",
      "Nose coordinates: (180.18861830234528, 378.08392333984375)\n",
      "Pose landmarks of ./images/testing\\image10055.jpg:\n",
      "Nose coordinates: (180.10082960128784, 384.0540771484375)\n",
      "Pose landmarks of ./images/testing\\image10056.jpg:\n",
      "Nose coordinates: (179.27785277366638, 386.85675048828125)\n",
      "Pose landmarks of ./images/testing\\image10057.jpg:\n",
      "Nose coordinates: (179.03740346431732, 392.3753967285156)\n",
      "Pose landmarks of ./images/testing\\image10058.jpg:\n",
      "Nose coordinates: (178.23830902576447, 406.6522216796875)\n",
      "Pose landmarks of ./images/testing\\image10059.jpg:\n",
      "Nose coordinates: (175.79195737838745, 412.9267272949219)\n",
      "Pose landmarks of ./images/testing\\image10060.jpg:\n",
      "Nose coordinates: (174.60606157779694, 422.21905517578125)\n",
      "Pose landmarks of ./images/testing\\image10061.jpg:\n",
      "Nose coordinates: (174.41527605056763, 431.2920837402344)\n",
      "Pose landmarks of ./images/testing\\image10062.jpg:\n",
      "Nose coordinates: (173.61333310604095, 446.23590087890625)\n",
      "Pose landmarks of ./images/testing\\image10063.jpg:\n",
      "Nose coordinates: (172.48817324638367, 452.5028991699219)\n",
      "Pose landmarks of ./images/testing\\image10064.jpg:\n",
      "Nose coordinates: (169.23725545406342, 459.46527099609375)\n",
      "Pose landmarks of ./images/testing\\image10065.jpg:\n",
      "Nose coordinates: (168.9199447631836, 464.37060546875)\n",
      "Pose landmarks of ./images/testing\\image10066.jpg:\n",
      "Nose coordinates: (168.0314040184021, 473.1309814453125)\n",
      "Pose landmarks of ./images/testing\\image10067.jpg:\n",
      "Nose coordinates: (167.25450217723846, 479.20623779296875)\n",
      "Pose landmarks of ./images/testing\\image10068.jpg:\n",
      "Nose coordinates: (166.32004737854004, 481.7928771972656)\n",
      "Pose landmarks of ./images/testing\\image10069.jpg:\n",
      "Nose coordinates: (165.76684176921844, 483.1511535644531)\n",
      "Pose landmarks of ./images/testing\\image10070.jpg:\n",
      "Nose coordinates: (165.70420682430267, 487.53497314453125)\n",
      "Pose landmarks of ./images/testing\\image10071.jpg:\n",
      "Nose coordinates: (166.66227042675018, 490.8748779296875)\n",
      "Pose landmarks of ./images/testing\\image10072.jpg:\n",
      "Nose coordinates: (166.01718842983246, 493.1427307128906)\n",
      "Pose landmarks of ./images/testing\\image10073.jpg:\n",
      "Nose coordinates: (166.23489797115326, 498.3668212890625)\n",
      "Pose landmarks of ./images/testing\\image10074.jpg:\n",
      "Nose coordinates: (168.234001994133, 497.0269470214844)\n",
      "Pose landmarks of ./images/testing\\image10075.jpg:\n",
      "Nose coordinates: (170.56414425373077, 500.77423095703125)\n",
      "Pose landmarks of ./images/testing\\image10076.jpg:\n",
      "Nose coordinates: (170.89392721652985, 503.8757629394531)\n",
      "Pose landmarks of ./images/testing\\image10077.jpg:\n",
      "Nose coordinates: (171.05580925941467, 507.35467529296875)\n",
      "Pose landmarks of ./images/testing\\image10078.jpg:\n",
      "Nose coordinates: (173.74376893043518, 510.1583557128906)\n",
      "Pose landmarks of ./images/testing\\image10079.jpg:\n",
      "Nose coordinates: (175.48863172531128, 511.91009521484375)\n",
      "Pose landmarks of ./images/testing\\image10080.jpg:\n",
      "Nose coordinates: (176.3405442237854, 511.0576171875)\n",
      "Pose landmarks of ./images/testing\\image10081.jpg:\n",
      "Nose coordinates: (177.80456364154816, 512.3431396484375)\n",
      "Pose landmarks of ./images/testing\\image10082.jpg:\n",
      "Nose coordinates: (178.0130034685135, 510.3958740234375)\n",
      "Pose landmarks of ./images/testing\\image10083.jpg:\n",
      "Nose coordinates: (177.97454059123993, 509.62139892578125)\n",
      "Pose landmarks of ./images/testing\\image10084.jpg:\n",
      "Nose coordinates: (178.17181169986725, 505.3048095703125)\n",
      "Pose landmarks of ./images/testing\\image10085.jpg:\n",
      "Nose coordinates: (178.45588982105255, 500.692138671875)\n",
      "Pose landmarks of ./images/testing\\image10086.jpg:\n",
      "Nose coordinates: (179.0850555896759, 493.6331787109375)\n",
      "Pose landmarks of ./images/testing\\image10087.jpg:\n",
      "Nose coordinates: (179.74837124347687, 489.20587158203125)\n",
      "Pose landmarks of ./images/testing\\image10088.jpg:\n",
      "Nose coordinates: (181.2954479455948, 482.6207580566406)\n",
      "Pose landmarks of ./images/testing\\image10089.jpg:\n",
      "Nose coordinates: (182.57214188575745, 472.1933288574219)\n",
      "Pose landmarks of ./images/testing\\image10090.jpg:\n",
      "Nose coordinates: (186.00340068340302, 459.5010070800781)\n",
      "Pose landmarks of ./images/testing\\image10091.jpg:\n",
      "Nose coordinates: (188.37112069129944, 454.55975341796875)\n",
      "Pose landmarks of ./images/testing\\image10092.jpg:\n",
      "Nose coordinates: (190.23647367954254, 447.8191223144531)\n",
      "Pose landmarks of ./images/testing\\image10093.jpg:\n",
      "Nose coordinates: (190.73845446109772, 440.0383605957031)\n",
      "Pose landmarks of ./images/testing\\image10094.jpg:\n",
      "Nose coordinates: (199.97467875480652, 425.3436584472656)\n",
      "Pose landmarks of ./images/testing\\image10095.jpg:\n",
      "Nose coordinates: (211.51951253414154, 415.5517272949219)\n",
      "Pose landmarks of ./images/testing\\image10096.jpg:\n",
      "Nose coordinates: (216.68528616428375, 405.94146728515625)\n",
      "Pose landmarks of ./images/testing\\image10097.jpg:\n",
      "Nose coordinates: (222.84856796264648, 398.1849670410156)\n",
      "Pose landmarks of ./images/testing\\image10098.jpg:\n"
     ]
    },
    {
     "name": "stdout",
     "output_type": "stream",
     "text": [
      "Nose coordinates: (228.59844624996185, 377.4900817871094)\n",
      "Pose landmarks of ./images/testing\\image10099.jpg:\n",
      "Nose coordinates: (235.24711668491364, 367.27593994140625)\n",
      "Pose landmarks of ./images/testing\\image10100.jpg:\n",
      "Nose coordinates: (238.97619724273682, 359.2822265625)\n",
      "Pose landmarks of ./images/testing\\image10101.jpg:\n",
      "Nose coordinates: (242.3389309644699, 349.2238464355469)\n",
      "Pose landmarks of ./images/testing\\image10102.jpg:\n",
      "Nose coordinates: (247.01847910881042, 342.5802307128906)\n",
      "Pose landmarks of ./images/testing\\image10103.jpg:\n",
      "Nose coordinates: (253.2668137550354, 325.1631774902344)\n",
      "Pose landmarks of ./images/testing\\image10104.jpg:\n",
      "Nose coordinates: (254.94995892047882, 314.34320068359375)\n",
      "Pose landmarks of ./images/testing\\image10105.jpg:\n",
      "Nose coordinates: (257.73285269737244, 303.7427978515625)\n",
      "Pose landmarks of ./images/testing\\image10106.jpg:\n",
      "Nose coordinates: (263.65563690662384, 292.3304748535156)\n",
      "Pose landmarks of ./images/testing\\image10107.jpg:\n",
      "Nose coordinates: (270.92217564582825, 283.2493591308594)\n",
      "Pose landmarks of ./images/testing\\image10108.jpg:\n",
      "Nose coordinates: (271.09984517097473, 274.7557373046875)\n",
      "Pose landmarks of ./images/testing\\image10109.jpg:\n",
      "Nose coordinates: (272.4071002006531, 268.7676086425781)\n",
      "Pose landmarks of ./images/testing\\image10110.jpg:\n",
      "Nose coordinates: (276.3130295276642, 257.3433532714844)\n",
      "Pose landmarks of ./images/testing\\image10111.jpg:\n",
      "Nose coordinates: (277.49630212783813, 249.3173370361328)\n",
      "Pose landmarks of ./images/testing\\image10112.jpg:\n",
      "Nose coordinates: (277.7943170070648, 245.1603240966797)\n",
      "Pose landmarks of ./images/testing\\image10113.jpg:\n",
      "Nose coordinates: (277.7125954627991, 242.03619384765625)\n",
      "Pose landmarks of ./images/testing\\image10114.jpg:\n",
      "Nose coordinates: (279.05171513557434, 234.02142333984375)\n",
      "Pose landmarks of ./images/testing\\image10115.jpg:\n",
      "Nose coordinates: (278.5941195487976, 236.79637145996094)\n",
      "Pose landmarks of ./images/testing\\image10116.jpg:\n",
      "Nose coordinates: (278.54065775871277, 235.1307830810547)\n",
      "Pose landmarks of ./images/testing\\image10117.jpg:\n",
      "Nose coordinates: (280.07672667503357, 234.63731384277344)\n",
      "Pose landmarks of ./images/testing\\image10118.jpg:\n",
      "Nose coordinates: (280.4807960987091, 229.88369750976562)\n",
      "Pose landmarks of ./images/testing\\image10119.jpg:\n",
      "Nose coordinates: (281.6688001155853, 229.476318359375)\n",
      "Pose landmarks of ./images/testing\\image10120.jpg:\n",
      "Nose coordinates: (282.0250725746155, 228.97625732421875)\n",
      "Pose landmarks of ./images/testing\\image10121.jpg:\n",
      "Nose coordinates: (280.2186048030853, 227.2631072998047)\n",
      "Pose landmarks of ./images/testing\\image10122.jpg:\n",
      "Nose coordinates: (277.4800479412079, 226.0276336669922)\n",
      "Pose landmarks of ./images/testing\\image10123.jpg:\n",
      "Nose coordinates: (277.5575530529022, 223.50440979003906)\n",
      "Pose landmarks of ./images/testing\\image10124.jpg:\n",
      "Nose coordinates: (276.85099482536316, 222.0115203857422)\n",
      "Pose landmarks of ./images/testing\\image10125.jpg:\n",
      "Nose coordinates: (277.2907269001007, 222.58065795898438)\n",
      "Pose landmarks of ./images/testing\\image10126.jpg:\n",
      "Nose coordinates: (279.27376985549927, 223.85910034179688)\n",
      "Pose landmarks of ./images/testing\\image10127.jpg:\n",
      "Nose coordinates: (279.4335114955902, 225.4267120361328)\n",
      "Pose landmarks of ./images/testing\\image10128.jpg:\n",
      "Nose coordinates: (276.28435134887695, 224.44326782226562)\n",
      "Pose landmarks of ./images/testing\\image10129.jpg:\n",
      "Nose coordinates: (276.1192989349365, 224.64013671875)\n",
      "Pose landmarks of ./images/testing\\image10130.jpg:\n",
      "Nose coordinates: (274.28093433380127, 224.59207153320312)\n",
      "Pose landmarks of ./images/testing\\image10131.jpg:\n",
      "Nose coordinates: (272.56439566612244, 223.90235900878906)\n",
      "Pose landmarks of ./images/testing\\image10132.jpg:\n",
      "Nose coordinates: (270.56413292884827, 222.98240661621094)\n",
      "Pose landmarks of ./images/testing\\image10133.jpg:\n",
      "Nose coordinates: (270.6603705883026, 223.59152221679688)\n",
      "Pose landmarks of ./images/testing\\image10134.jpg:\n",
      "Nose coordinates: (266.748229265213, 224.336669921875)\n",
      "Pose landmarks of ./images/testing\\image10135.jpg:\n",
      "Nose coordinates: (263.38834404945374, 224.7992706298828)\n",
      "Pose landmarks of ./images/testing\\image10136.jpg:\n",
      "Nose coordinates: (264.856773018837, 227.82986450195312)\n",
      "Pose landmarks of ./images/testing\\image10137.jpg:\n",
      "Nose coordinates: (263.40979635715485, 226.91612243652344)\n",
      "Pose landmarks of ./images/testing\\image10138.jpg:\n",
      "Nose coordinates: (260.21077930927277, 226.9479217529297)\n",
      "Pose landmarks of ./images/testing\\image10139.jpg:\n",
      "Nose coordinates: (258.23235511779785, 226.9458770751953)\n",
      "Pose landmarks of ./images/testing\\image10140.jpg:\n",
      "Nose coordinates: (257.1289050579071, 227.89266967773438)\n",
      "Pose landmarks of ./images/testing\\image10141.jpg:\n"
     ]
    },
    {
     "data": {
      "text/plain": [
       "<Figure size 720x1080 with 0 Axes>"
      ]
     },
     "metadata": {},
     "output_type": "display_data"
    },
    {
     "data": {
      "text/plain": [
       "<Figure size 720x1080 with 0 Axes>"
      ]
     },
     "metadata": {},
     "output_type": "display_data"
    },
    {
     "data": {
      "text/plain": [
       "<Figure size 720x1080 with 0 Axes>"
      ]
     },
     "metadata": {},
     "output_type": "display_data"
    },
    {
     "data": {
      "text/plain": [
       "<Figure size 720x1080 with 0 Axes>"
      ]
     },
     "metadata": {},
     "output_type": "display_data"
    },
    {
     "data": {
      "text/plain": [
       "<Figure size 720x1080 with 0 Axes>"
      ]
     },
     "metadata": {},
     "output_type": "display_data"
    },
    {
     "data": {
      "text/plain": [
       "<Figure size 720x1080 with 0 Axes>"
      ]
     },
     "metadata": {},
     "output_type": "display_data"
    },
    {
     "data": {
      "text/plain": [
       "<Figure size 720x1080 with 0 Axes>"
      ]
     },
     "metadata": {},
     "output_type": "display_data"
    },
    {
     "data": {
      "text/plain": [
       "<Figure size 720x1080 with 0 Axes>"
      ]
     },
     "metadata": {},
     "output_type": "display_data"
    },
    {
     "data": {
      "text/plain": [
       "<Figure size 720x1080 with 0 Axes>"
      ]
     },
     "metadata": {},
     "output_type": "display_data"
    },
    {
     "data": {
      "text/plain": [
       "<Figure size 720x1080 with 0 Axes>"
      ]
     },
     "metadata": {},
     "output_type": "display_data"
    },
    {
     "data": {
      "text/plain": [
       "<Figure size 720x1080 with 0 Axes>"
      ]
     },
     "metadata": {},
     "output_type": "display_data"
    },
    {
     "data": {
      "text/plain": [
       "<Figure size 720x1080 with 0 Axes>"
      ]
     },
     "metadata": {},
     "output_type": "display_data"
    },
    {
     "data": {
      "text/plain": [
       "<Figure size 720x1080 with 0 Axes>"
      ]
     },
     "metadata": {},
     "output_type": "display_data"
    },
    {
     "data": {
      "text/plain": [
       "<Figure size 720x1080 with 0 Axes>"
      ]
     },
     "metadata": {},
     "output_type": "display_data"
    },
    {
     "data": {
      "text/plain": [
       "<Figure size 720x1080 with 0 Axes>"
      ]
     },
     "metadata": {},
     "output_type": "display_data"
    },
    {
     "data": {
      "text/plain": [
       "<Figure size 720x1080 with 0 Axes>"
      ]
     },
     "metadata": {},
     "output_type": "display_data"
    },
    {
     "data": {
      "text/plain": [
       "<Figure size 720x1080 with 0 Axes>"
      ]
     },
     "metadata": {},
     "output_type": "display_data"
    },
    {
     "data": {
      "text/plain": [
       "<Figure size 720x1080 with 0 Axes>"
      ]
     },
     "metadata": {},
     "output_type": "display_data"
    },
    {
     "data": {
      "text/plain": [
       "<Figure size 720x1080 with 0 Axes>"
      ]
     },
     "metadata": {},
     "output_type": "display_data"
    },
    {
     "data": {
      "text/plain": [
       "<Figure size 720x1080 with 0 Axes>"
      ]
     },
     "metadata": {},
     "output_type": "display_data"
    },
    {
     "data": {
      "text/plain": [
       "<Figure size 720x1080 with 0 Axes>"
      ]
     },
     "metadata": {},
     "output_type": "display_data"
    },
    {
     "data": {
      "text/plain": [
       "<Figure size 720x1080 with 0 Axes>"
      ]
     },
     "metadata": {},
     "output_type": "display_data"
    },
    {
     "data": {
      "text/plain": [
       "<Figure size 720x1080 with 0 Axes>"
      ]
     },
     "metadata": {},
     "output_type": "display_data"
    },
    {
     "data": {
      "text/plain": [
       "<Figure size 720x1080 with 0 Axes>"
      ]
     },
     "metadata": {},
     "output_type": "display_data"
    },
    {
     "data": {
      "text/plain": [
       "<Figure size 720x1080 with 0 Axes>"
      ]
     },
     "metadata": {},
     "output_type": "display_data"
    },
    {
     "data": {
      "text/plain": [
       "<Figure size 720x1080 with 0 Axes>"
      ]
     },
     "metadata": {},
     "output_type": "display_data"
    },
    {
     "data": {
      "text/plain": [
       "<Figure size 720x1080 with 0 Axes>"
      ]
     },
     "metadata": {},
     "output_type": "display_data"
    },
    {
     "data": {
      "text/plain": [
       "<Figure size 720x1080 with 0 Axes>"
      ]
     },
     "metadata": {},
     "output_type": "display_data"
    },
    {
     "data": {
      "text/plain": [
       "<Figure size 720x1080 with 0 Axes>"
      ]
     },
     "metadata": {},
     "output_type": "display_data"
    },
    {
     "data": {
      "text/plain": [
       "<Figure size 720x1080 with 0 Axes>"
      ]
     },
     "metadata": {},
     "output_type": "display_data"
    },
    {
     "data": {
      "text/plain": [
       "<Figure size 720x1080 with 0 Axes>"
      ]
     },
     "metadata": {},
     "output_type": "display_data"
    },
    {
     "data": {
      "text/plain": [
       "<Figure size 720x1080 with 0 Axes>"
      ]
     },
     "metadata": {},
     "output_type": "display_data"
    },
    {
     "data": {
      "text/plain": [
       "<Figure size 720x1080 with 0 Axes>"
      ]
     },
     "metadata": {},
     "output_type": "display_data"
    },
    {
     "data": {
      "text/plain": [
       "<Figure size 720x1080 with 0 Axes>"
      ]
     },
     "metadata": {},
     "output_type": "display_data"
    },
    {
     "data": {
      "text/plain": [
       "<Figure size 720x1080 with 0 Axes>"
      ]
     },
     "metadata": {},
     "output_type": "display_data"
    },
    {
     "data": {
      "text/plain": [
       "<Figure size 720x1080 with 0 Axes>"
      ]
     },
     "metadata": {},
     "output_type": "display_data"
    },
    {
     "data": {
      "text/plain": [
       "<Figure size 720x1080 with 0 Axes>"
      ]
     },
     "metadata": {},
     "output_type": "display_data"
    },
    {
     "data": {
      "text/plain": [
       "<Figure size 720x1080 with 0 Axes>"
      ]
     },
     "metadata": {},
     "output_type": "display_data"
    },
    {
     "data": {
      "text/plain": [
       "<Figure size 720x1080 with 0 Axes>"
      ]
     },
     "metadata": {},
     "output_type": "display_data"
    },
    {
     "data": {
      "text/plain": [
       "<Figure size 720x1080 with 0 Axes>"
      ]
     },
     "metadata": {},
     "output_type": "display_data"
    },
    {
     "data": {
      "text/plain": [
       "<Figure size 720x1080 with 0 Axes>"
      ]
     },
     "metadata": {},
     "output_type": "display_data"
    },
    {
     "data": {
      "text/plain": [
       "<Figure size 720x1080 with 0 Axes>"
      ]
     },
     "metadata": {},
     "output_type": "display_data"
    },
    {
     "data": {
      "text/plain": [
       "<Figure size 720x1080 with 0 Axes>"
      ]
     },
     "metadata": {},
     "output_type": "display_data"
    },
    {
     "data": {
      "text/plain": [
       "<Figure size 720x1080 with 0 Axes>"
      ]
     },
     "metadata": {},
     "output_type": "display_data"
    },
    {
     "data": {
      "text/plain": [
       "<Figure size 720x1080 with 0 Axes>"
      ]
     },
     "metadata": {},
     "output_type": "display_data"
    },
    {
     "data": {
      "text/plain": [
       "<Figure size 720x1080 with 0 Axes>"
      ]
     },
     "metadata": {},
     "output_type": "display_data"
    },
    {
     "data": {
      "text/plain": [
       "<Figure size 720x1080 with 0 Axes>"
      ]
     },
     "metadata": {},
     "output_type": "display_data"
    },
    {
     "data": {
      "text/plain": [
       "<Figure size 720x1080 with 0 Axes>"
      ]
     },
     "metadata": {},
     "output_type": "display_data"
    },
    {
     "data": {
      "text/plain": [
       "<Figure size 720x1080 with 0 Axes>"
      ]
     },
     "metadata": {},
     "output_type": "display_data"
    },
    {
     "data": {
      "text/plain": [
       "<Figure size 720x1080 with 0 Axes>"
      ]
     },
     "metadata": {},
     "output_type": "display_data"
    },
    {
     "data": {
      "text/plain": [
       "<Figure size 720x1080 with 0 Axes>"
      ]
     },
     "metadata": {},
     "output_type": "display_data"
    },
    {
     "data": {
      "text/plain": [
       "<Figure size 720x1080 with 0 Axes>"
      ]
     },
     "metadata": {},
     "output_type": "display_data"
    },
    {
     "data": {
      "text/plain": [
       "<Figure size 720x1080 with 0 Axes>"
      ]
     },
     "metadata": {},
     "output_type": "display_data"
    },
    {
     "data": {
      "text/plain": [
       "<Figure size 720x1080 with 0 Axes>"
      ]
     },
     "metadata": {},
     "output_type": "display_data"
    },
    {
     "data": {
      "text/plain": [
       "<Figure size 720x1080 with 0 Axes>"
      ]
     },
     "metadata": {},
     "output_type": "display_data"
    },
    {
     "data": {
      "text/plain": [
       "<Figure size 720x1080 with 0 Axes>"
      ]
     },
     "metadata": {},
     "output_type": "display_data"
    },
    {
     "data": {
      "text/plain": [
       "<Figure size 720x1080 with 0 Axes>"
      ]
     },
     "metadata": {},
     "output_type": "display_data"
    },
    {
     "data": {
      "text/plain": [
       "<Figure size 720x1080 with 0 Axes>"
      ]
     },
     "metadata": {},
     "output_type": "display_data"
    },
    {
     "data": {
      "text/plain": [
       "<Figure size 720x1080 with 0 Axes>"
      ]
     },
     "metadata": {},
     "output_type": "display_data"
    },
    {
     "data": {
      "text/plain": [
       "<Figure size 720x1080 with 0 Axes>"
      ]
     },
     "metadata": {},
     "output_type": "display_data"
    },
    {
     "data": {
      "text/plain": [
       "<Figure size 720x1080 with 0 Axes>"
      ]
     },
     "metadata": {},
     "output_type": "display_data"
    },
    {
     "data": {
      "text/plain": [
       "<Figure size 720x1080 with 0 Axes>"
      ]
     },
     "metadata": {},
     "output_type": "display_data"
    },
    {
     "data": {
      "text/plain": [
       "<Figure size 720x1080 with 0 Axes>"
      ]
     },
     "metadata": {},
     "output_type": "display_data"
    },
    {
     "data": {
      "text/plain": [
       "<Figure size 720x1080 with 0 Axes>"
      ]
     },
     "metadata": {},
     "output_type": "display_data"
    },
    {
     "data": {
      "text/plain": [
       "<Figure size 720x1080 with 0 Axes>"
      ]
     },
     "metadata": {},
     "output_type": "display_data"
    },
    {
     "data": {
      "text/plain": [
       "<Figure size 720x1080 with 0 Axes>"
      ]
     },
     "metadata": {},
     "output_type": "display_data"
    },
    {
     "data": {
      "text/plain": [
       "<Figure size 720x1080 with 0 Axes>"
      ]
     },
     "metadata": {},
     "output_type": "display_data"
    },
    {
     "data": {
      "text/plain": [
       "<Figure size 720x1080 with 0 Axes>"
      ]
     },
     "metadata": {},
     "output_type": "display_data"
    },
    {
     "data": {
      "text/plain": [
       "<Figure size 720x1080 with 0 Axes>"
      ]
     },
     "metadata": {},
     "output_type": "display_data"
    },
    {
     "data": {
      "text/plain": [
       "<Figure size 720x1080 with 0 Axes>"
      ]
     },
     "metadata": {},
     "output_type": "display_data"
    },
    {
     "data": {
      "text/plain": [
       "<Figure size 720x1080 with 0 Axes>"
      ]
     },
     "metadata": {},
     "output_type": "display_data"
    },
    {
     "data": {
      "text/plain": [
       "<Figure size 720x1080 with 0 Axes>"
      ]
     },
     "metadata": {},
     "output_type": "display_data"
    },
    {
     "data": {
      "text/plain": [
       "<Figure size 720x1080 with 0 Axes>"
      ]
     },
     "metadata": {},
     "output_type": "display_data"
    },
    {
     "data": {
      "text/plain": [
       "<Figure size 720x1080 with 0 Axes>"
      ]
     },
     "metadata": {},
     "output_type": "display_data"
    },
    {
     "data": {
      "text/plain": [
       "<Figure size 720x1080 with 0 Axes>"
      ]
     },
     "metadata": {},
     "output_type": "display_data"
    },
    {
     "data": {
      "text/plain": [
       "<Figure size 720x1080 with 0 Axes>"
      ]
     },
     "metadata": {},
     "output_type": "display_data"
    },
    {
     "data": {
      "text/plain": [
       "<Figure size 720x1080 with 0 Axes>"
      ]
     },
     "metadata": {},
     "output_type": "display_data"
    },
    {
     "data": {
      "text/plain": [
       "<Figure size 720x1080 with 0 Axes>"
      ]
     },
     "metadata": {},
     "output_type": "display_data"
    },
    {
     "data": {
      "text/plain": [
       "<Figure size 720x1080 with 0 Axes>"
      ]
     },
     "metadata": {},
     "output_type": "display_data"
    },
    {
     "data": {
      "text/plain": [
       "<Figure size 720x1080 with 0 Axes>"
      ]
     },
     "metadata": {},
     "output_type": "display_data"
    },
    {
     "data": {
      "text/plain": [
       "<Figure size 720x1080 with 0 Axes>"
      ]
     },
     "metadata": {},
     "output_type": "display_data"
    },
    {
     "data": {
      "text/plain": [
       "<Figure size 720x1080 with 0 Axes>"
      ]
     },
     "metadata": {},
     "output_type": "display_data"
    },
    {
     "data": {
      "text/plain": [
       "<Figure size 720x1080 with 0 Axes>"
      ]
     },
     "metadata": {},
     "output_type": "display_data"
    },
    {
     "data": {
      "text/plain": [
       "<Figure size 720x1080 with 0 Axes>"
      ]
     },
     "metadata": {},
     "output_type": "display_data"
    },
    {
     "data": {
      "text/plain": [
       "<Figure size 720x1080 with 0 Axes>"
      ]
     },
     "metadata": {},
     "output_type": "display_data"
    },
    {
     "data": {
      "text/plain": [
       "<Figure size 720x1080 with 0 Axes>"
      ]
     },
     "metadata": {},
     "output_type": "display_data"
    },
    {
     "data": {
      "text/plain": [
       "<Figure size 720x1080 with 0 Axes>"
      ]
     },
     "metadata": {},
     "output_type": "display_data"
    },
    {
     "data": {
      "text/plain": [
       "<Figure size 720x1080 with 0 Axes>"
      ]
     },
     "metadata": {},
     "output_type": "display_data"
    },
    {
     "data": {
      "text/plain": [
       "<Figure size 720x1080 with 0 Axes>"
      ]
     },
     "metadata": {},
     "output_type": "display_data"
    },
    {
     "data": {
      "text/plain": [
       "<Figure size 720x1080 with 0 Axes>"
      ]
     },
     "metadata": {},
     "output_type": "display_data"
    },
    {
     "data": {
      "text/plain": [
       "<Figure size 720x1080 with 0 Axes>"
      ]
     },
     "metadata": {},
     "output_type": "display_data"
    },
    {
     "data": {
      "text/plain": [
       "<Figure size 720x1080 with 0 Axes>"
      ]
     },
     "metadata": {},
     "output_type": "display_data"
    },
    {
     "data": {
      "text/plain": [
       "<Figure size 720x1080 with 0 Axes>"
      ]
     },
     "metadata": {},
     "output_type": "display_data"
    },
    {
     "data": {
      "text/plain": [
       "<Figure size 720x1080 with 0 Axes>"
      ]
     },
     "metadata": {},
     "output_type": "display_data"
    },
    {
     "data": {
      "text/plain": [
       "<Figure size 720x1080 with 0 Axes>"
      ]
     },
     "metadata": {},
     "output_type": "display_data"
    },
    {
     "data": {
      "text/plain": [
       "<Figure size 720x1080 with 0 Axes>"
      ]
     },
     "metadata": {},
     "output_type": "display_data"
    },
    {
     "data": {
      "text/plain": [
       "<Figure size 720x1080 with 0 Axes>"
      ]
     },
     "metadata": {},
     "output_type": "display_data"
    },
    {
     "data": {
      "text/plain": [
       "<Figure size 720x1080 with 0 Axes>"
      ]
     },
     "metadata": {},
     "output_type": "display_data"
    },
    {
     "data": {
      "text/plain": [
       "<Figure size 720x1080 with 0 Axes>"
      ]
     },
     "metadata": {},
     "output_type": "display_data"
    },
    {
     "data": {
      "text/plain": [
       "<Figure size 720x1080 with 0 Axes>"
      ]
     },
     "metadata": {},
     "output_type": "display_data"
    },
    {
     "data": {
      "text/plain": [
       "<Figure size 720x1080 with 0 Axes>"
      ]
     },
     "metadata": {},
     "output_type": "display_data"
    },
    {
     "data": {
      "text/plain": [
       "<Figure size 720x1080 with 0 Axes>"
      ]
     },
     "metadata": {},
     "output_type": "display_data"
    },
    {
     "data": {
      "text/plain": [
       "<Figure size 720x1080 with 0 Axes>"
      ]
     },
     "metadata": {},
     "output_type": "display_data"
    },
    {
     "data": {
      "text/plain": [
       "<Figure size 720x1080 with 0 Axes>"
      ]
     },
     "metadata": {},
     "output_type": "display_data"
    },
    {
     "data": {
      "text/plain": [
       "<Figure size 720x1080 with 0 Axes>"
      ]
     },
     "metadata": {},
     "output_type": "display_data"
    },
    {
     "data": {
      "text/plain": [
       "<Figure size 720x1080 with 0 Axes>"
      ]
     },
     "metadata": {},
     "output_type": "display_data"
    },
    {
     "data": {
      "text/plain": [
       "<Figure size 720x1080 with 0 Axes>"
      ]
     },
     "metadata": {},
     "output_type": "display_data"
    },
    {
     "data": {
      "text/plain": [
       "<Figure size 720x1080 with 0 Axes>"
      ]
     },
     "metadata": {},
     "output_type": "display_data"
    },
    {
     "data": {
      "text/plain": [
       "<Figure size 720x1080 with 0 Axes>"
      ]
     },
     "metadata": {},
     "output_type": "display_data"
    },
    {
     "data": {
      "text/plain": [
       "<Figure size 720x1080 with 0 Axes>"
      ]
     },
     "metadata": {},
     "output_type": "display_data"
    },
    {
     "data": {
      "text/plain": [
       "<Figure size 720x1080 with 0 Axes>"
      ]
     },
     "metadata": {},
     "output_type": "display_data"
    },
    {
     "data": {
      "text/plain": [
       "<Figure size 720x1080 with 0 Axes>"
      ]
     },
     "metadata": {},
     "output_type": "display_data"
    },
    {
     "data": {
      "text/plain": [
       "<Figure size 720x1080 with 0 Axes>"
      ]
     },
     "metadata": {},
     "output_type": "display_data"
    },
    {
     "data": {
      "text/plain": [
       "<Figure size 720x1080 with 0 Axes>"
      ]
     },
     "metadata": {},
     "output_type": "display_data"
    },
    {
     "data": {
      "text/plain": [
       "<Figure size 720x1080 with 0 Axes>"
      ]
     },
     "metadata": {},
     "output_type": "display_data"
    },
    {
     "data": {
      "text/plain": [
       "<Figure size 720x1080 with 0 Axes>"
      ]
     },
     "metadata": {},
     "output_type": "display_data"
    },
    {
     "data": {
      "text/plain": [
       "<Figure size 720x1080 with 0 Axes>"
      ]
     },
     "metadata": {},
     "output_type": "display_data"
    },
    {
     "data": {
      "text/plain": [
       "<Figure size 720x1080 with 0 Axes>"
      ]
     },
     "metadata": {},
     "output_type": "display_data"
    },
    {
     "data": {
      "text/plain": [
       "<Figure size 720x1080 with 0 Axes>"
      ]
     },
     "metadata": {},
     "output_type": "display_data"
    },
    {
     "data": {
      "text/plain": [
       "<Figure size 720x1080 with 0 Axes>"
      ]
     },
     "metadata": {},
     "output_type": "display_data"
    },
    {
     "data": {
      "text/plain": [
       "<Figure size 720x1080 with 0 Axes>"
      ]
     },
     "metadata": {},
     "output_type": "display_data"
    },
    {
     "data": {
      "text/plain": [
       "<Figure size 720x1080 with 0 Axes>"
      ]
     },
     "metadata": {},
     "output_type": "display_data"
    },
    {
     "data": {
      "text/plain": [
       "<Figure size 720x1080 with 0 Axes>"
      ]
     },
     "metadata": {},
     "output_type": "display_data"
    },
    {
     "data": {
      "text/plain": [
       "<Figure size 720x1080 with 0 Axes>"
      ]
     },
     "metadata": {},
     "output_type": "display_data"
    },
    {
     "data": {
      "text/plain": [
       "<Figure size 720x1080 with 0 Axes>"
      ]
     },
     "metadata": {},
     "output_type": "display_data"
    },
    {
     "data": {
      "text/plain": [
       "<Figure size 720x1080 with 0 Axes>"
      ]
     },
     "metadata": {},
     "output_type": "display_data"
    },
    {
     "data": {
      "text/plain": [
       "<Figure size 720x1080 with 0 Axes>"
      ]
     },
     "metadata": {},
     "output_type": "display_data"
    },
    {
     "data": {
      "text/plain": [
       "<Figure size 720x1080 with 0 Axes>"
      ]
     },
     "metadata": {},
     "output_type": "display_data"
    },
    {
     "data": {
      "text/plain": [
       "<Figure size 720x1080 with 0 Axes>"
      ]
     },
     "metadata": {},
     "output_type": "display_data"
    },
    {
     "data": {
      "text/plain": [
       "<Figure size 720x1080 with 0 Axes>"
      ]
     },
     "metadata": {},
     "output_type": "display_data"
    },
    {
     "data": {
      "text/plain": [
       "<Figure size 720x1080 with 0 Axes>"
      ]
     },
     "metadata": {},
     "output_type": "display_data"
    },
    {
     "data": {
      "text/plain": [
       "<Figure size 720x1080 with 0 Axes>"
      ]
     },
     "metadata": {},
     "output_type": "display_data"
    },
    {
     "data": {
      "text/plain": [
       "<Figure size 720x1080 with 0 Axes>"
      ]
     },
     "metadata": {},
     "output_type": "display_data"
    },
    {
     "data": {
      "text/plain": [
       "<Figure size 720x1080 with 0 Axes>"
      ]
     },
     "metadata": {},
     "output_type": "display_data"
    },
    {
     "data": {
      "text/plain": [
       "<Figure size 720x1080 with 0 Axes>"
      ]
     },
     "metadata": {},
     "output_type": "display_data"
    },
    {
     "data": {
      "text/plain": [
       "<Figure size 720x1080 with 0 Axes>"
      ]
     },
     "metadata": {},
     "output_type": "display_data"
    },
    {
     "data": {
      "text/plain": [
       "<Figure size 720x1080 with 0 Axes>"
      ]
     },
     "metadata": {},
     "output_type": "display_data"
    },
    {
     "data": {
      "text/plain": [
       "<Figure size 720x1080 with 0 Axes>"
      ]
     },
     "metadata": {},
     "output_type": "display_data"
    },
    {
     "data": {
      "text/plain": [
       "<Figure size 720x1080 with 0 Axes>"
      ]
     },
     "metadata": {},
     "output_type": "display_data"
    },
    {
     "data": {
      "text/plain": [
       "<Figure size 720x1080 with 0 Axes>"
      ]
     },
     "metadata": {},
     "output_type": "display_data"
    },
    {
     "data": {
      "text/plain": [
       "<Figure size 720x1080 with 0 Axes>"
      ]
     },
     "metadata": {},
     "output_type": "display_data"
    }
   ],
   "source": [
    "# Initialize MediaPipe Holistic.\n",
    "i=0\n",
    "img_array = []\n",
    "with mp_holistic.Holistic(\n",
    "    static_image_mode=False,min_detection_confidence=0.8) as holistic:\n",
    "  for name, image in images.items():\n",
    "    # Convert the BGR image to RGB and process it with MediaPipe Pose.\n",
    "    results = holistic.process(cv2.cvtColor(image, cv2.COLOR_BGR2RGB))\n",
    "\n",
    "    # Print nose coordinates.\n",
    "    image_hight, image_width, _ = image.shape\n",
    "    if results.pose_landmarks:\n",
    "      print(\n",
    "        f'Nose coordinates: ('\n",
    "        f'{results.pose_landmarks.landmark[mp_holistic.PoseLandmark.NOSE].x * image_width}, '\n",
    "        f'{results.pose_landmarks.landmark[mp_holistic.PoseLandmark.NOSE].y * image_hight})'\n",
    "      )\n",
    "    # Draw pose landmarks.\n",
    "    print(f'Pose landmarks of {name}:')\n",
    "    annotated_image = image.copy()\n",
    "    mp_drawing.draw_landmarks(annotated_image, results.left_hand_landmarks, mp_holistic.HAND_CONNECTIONS)\n",
    "    mp_drawing.draw_landmarks(annotated_image, results.right_hand_landmarks, mp_holistic.HAND_CONNECTIONS)\n",
    "    mp_drawing.draw_landmarks(\n",
    "        image=annotated_image, \n",
    "        landmark_list=results.face_landmarks, \n",
    "        connections=mp_holistic.FACE_CONNECTIONS,\n",
    "        landmark_drawing_spec=drawing_spec,\n",
    "        connection_drawing_spec=drawing_spec)\n",
    "    mp_drawing.draw_landmarks(\n",
    "        image=annotated_image, \n",
    "        landmark_list=results.pose_landmarks, \n",
    "        connections=mp_holistic.POSE_CONNECTIONS,\n",
    "        landmark_drawing_spec=drawing_spec,\n",
    "        connection_drawing_spec=drawing_spec)\n",
    "    #cv2_imshow(annotated_image)\n",
    "    #cv2.imwrite(\"imag1\", annotated_image)\n",
    "    plt.figure(figsize=(10,15))\n",
    "#    plt.imshow(annotated_image)\n",
    "#    plt.show()\n",
    "    height, width, layers = image.shape\n",
    "    size = (width,height)\n",
    "    img_array.append(annotated_image)\n",
    " \n",
    " \n",
    "out = cv2.VideoWriter('projectYOGA.avi',cv2.VideoWriter_fourcc(*'DIVX'), 24, size)\n",
    " \n",
    "for i in range(len(img_array)):\n",
    "    out.write(img_array[i])\n",
    "out.release()"
   ]
  },
  {
   "cell_type": "code",
   "execution_count": null,
   "metadata": {},
   "outputs": [],
   "source": [
    "from abc import ABCMeta, abstractmethod\n",
    "\n",
    "import numpy as np\n",
    "\n",
    "\n",
    "class AbstDetector(metaclass=ABCMeta):\n",
    "    @abstractmethod\n",
    "    def detect(self, image: np.ndarray) -> bool:\n",
    "        \"\"\"モデルによる推論処理\n",
    "        Args:\n",
    "            image (np.ndarray): 入力イメージ\n",
    "        Returns:\n",
    "            bool: 対象物体（手や顔）が検出できたかどうか\n",
    "        \"\"\"\n",
    "        pass\n",
    "\n",
    "    @abstractmethod\n",
    "    def draw(self, image: np.ndarray) -> np.ndarray:\n",
    "        \"\"\"推論結果を描画する\n",
    "        Args:\n",
    "            image (np.ndarray): ベースイメージ\n",
    "        Returns:\n",
    "            np.ndarray: 描画済みイメージ\n",
    "        \"\"\"\n",
    "        pass"
   ]
  },
  {
   "cell_type": "code",
   "execution_count": 14,
   "metadata": {},
   "outputs": [
    {
     "ename": "ModuleNotFoundError",
     "evalue": "No module named '__main__.abst_detector'; '__main__' is not a package",
     "output_type": "error",
     "traceback": [
      "\u001b[1;31m---------------------------------------------------------------------------\u001b[0m",
      "\u001b[1;31mModuleNotFoundError\u001b[0m                       Traceback (most recent call last)",
      "\u001b[1;32m<ipython-input-14-2f633a4b0062>\u001b[0m in \u001b[0;36m<module>\u001b[1;34m\u001b[0m\n\u001b[0;32m      4\u001b[0m \u001b[1;33m\u001b[0m\u001b[0m\n\u001b[0;32m      5\u001b[0m \u001b[1;33m\u001b[0m\u001b[0m\n\u001b[1;32m----> 6\u001b[1;33m \u001b[1;32mfrom\u001b[0m \u001b[1;33m.\u001b[0m\u001b[0mabst_detector\u001b[0m \u001b[1;32mimport\u001b[0m \u001b[0mAbstDetector\u001b[0m\u001b[1;33m\u001b[0m\u001b[1;33m\u001b[0m\u001b[0m\n\u001b[0m\u001b[0;32m      7\u001b[0m \u001b[1;33m\u001b[0m\u001b[0m\n\u001b[0;32m      8\u001b[0m \u001b[1;33m\u001b[0m\u001b[0m\n",
      "\u001b[1;31mModuleNotFoundError\u001b[0m: No module named '__main__.abst_detector'; '__main__' is not a package"
     ]
    }
   ],
   "source": [
    "import cv2\n",
    "import numpy as np\n",
    "import mediapipe as mp\n",
    "\n",
    "\n",
    "from .abst_detector import AbstDetector\n",
    "\n",
    "\n",
    "class PoseEstimator(AbstDetector):\n",
    "    def __init__(self, min_detection_confidence: float, min_tracking_confidence: float) -> None:\n",
    "        \"\"\"初期化処理\n",
    "        Args:\n",
    "            min_detection_confidence (float): 姿勢推定モデルの最小信頼値\n",
    "            min_tracking_confidence (float): ランドマーク追跡モデルからの最小信頼値\n",
    "        \"\"\"\n",
    "        self.estimator = mp.solutions.pose.Pose(\n",
    "            min_detection_confidence=min_detection_confidence,\n",
    "            min_tracking_confidence=min_tracking_confidence,\n",
    "        )\n",
    "\n",
    "    def detect(self, image: np.ndarray) -> bool:\n",
    "        \"\"\"姿勢推定処理\n",
    "        Args:\n",
    "            image (np.ndarray): 入力イメージ\n",
    "        Returns:\n",
    "            bool: 手が検出できたか\n",
    "        \"\"\"\n",
    "        try:\n",
    "            self.results = self.estimator.process(image)\n",
    "        except Exception as e:\n",
    "            logger.error(e)\n",
    "        return True if self.results.pose_landmarks is not None else False\n",
    "\n",
    "    def draw(self, image: np.ndarray) -> np.ndarray:\n",
    "        \"\"\"処理結果を描画する\n",
    "        Args:\n",
    "            image (np.ndarray): ベースイメージ\n",
    "        Returns:\n",
    "            np.ndarray: 描画済みイメージ\n",
    "        \"\"\"\n",
    "        landmark_buf = []\n",
    "        base_width, base_height = image.shape[1], image.shape[0]\n",
    "\n",
    "        # draw landmark points\n",
    "        for landmark in self.results.pose_landmarks.landmark:\n",
    "            x = min(int(landmark.x * base_width), base_width - 1)\n",
    "            y = min(int(landmark.y * base_height), base_height - 1)\n",
    "            landmark_buf.append((x, y))\n",
    "            cv2.circle(image, (x, y), 2, (255, 0, 0), 5)\n",
    "\n",
    "        # draw connections\n",
    "        for con_pair in mp.solutions.pose.POSE_CONNECTIONS:\n",
    "            cv2.line(image, landmark_buf[con_pair[0].value],\n",
    "                     landmark_buf[con_pair[1].value], (255, 0, 0), 2)\n",
    "\n",
    "        return image"
   ]
  },
  {
   "cell_type": "code",
   "execution_count": null,
   "metadata": {},
   "outputs": [],
   "source": []
  },
  {
   "cell_type": "code",
   "execution_count": null,
   "metadata": {},
   "outputs": [],
   "source": []
  },
  {
   "cell_type": "code",
   "execution_count": null,
   "metadata": {},
   "outputs": [],
   "source": []
  },
  {
   "cell_type": "code",
   "execution_count": null,
   "metadata": {},
   "outputs": [],
   "source": []
  },
  {
   "cell_type": "code",
   "execution_count": 41,
   "metadata": {},
   "outputs": [],
   "source": [
    "#face mesh 3d on camera"
   ]
  },
  {
   "cell_type": "code",
   "execution_count": null,
   "metadata": {},
   "outputs": [],
   "source": []
  },
  {
   "cell_type": "code",
   "execution_count": null,
   "metadata": {},
   "outputs": [],
   "source": []
  },
  {
   "cell_type": "code",
   "execution_count": null,
   "metadata": {},
   "outputs": [],
   "source": [
    "#MediaPipe\n",
    "\n",
    "MediaPipe offers open source cross-platform, customizable ML solutions for live and streaming media. \n",
    "End-to-End acceleration: Built-in fast ML inference and processing accelerated even on common hardware. \n",
    "Build once, deploy anywhere: Unified solution works across Android, iOS, desktop/cloud, web and IoT."
   ]
  },
  {
   "cell_type": "code",
   "execution_count": null,
   "metadata": {},
   "outputs": [],
   "source": [
    "!pip install mediapipe"
   ]
  },
  {
   "cell_type": "code",
   "execution_count": null,
   "metadata": {},
   "outputs": [],
   "source": [
    "!pip install opencv-python"
   ]
  },
  {
   "cell_type": "code",
   "execution_count": null,
   "metadata": {},
   "outputs": [],
   "source": [
    "Face Mesh 468 point 3D face landmarks in video even on mobile devices and web application MediaPipe"
   ]
  },
  {
   "cell_type": "code",
   "execution_count": null,
   "metadata": {},
   "outputs": [],
   "source": []
  },
  {
   "cell_type": "code",
   "execution_count": null,
   "metadata": {},
   "outputs": [],
   "source": [
    "#camera"
   ]
  },
  {
   "cell_type": "code",
   "execution_count": null,
   "metadata": {},
   "outputs": [],
   "source": []
  },
  {
   "cell_type": "code",
   "execution_count": null,
   "metadata": {},
   "outputs": [],
   "source": [
    "#image manipulation"
   ]
  },
  {
   "cell_type": "code",
   "execution_count": 1,
   "metadata": {
    "scrolled": true
   },
   "outputs": [
    {
     "data": {
      "image/png": "[encoded data removed]",
      "text/plain": [
       "<Figure size 432x288 with 1 Axes>"
      ]
     },
     "metadata": {
      "needs_background": "light"
     },
     "output_type": "display_data"
    }
   ],
   "source": [
    "%matplotlib inline\n",
    "#The line above is necesary to show Matplotlib's plots inside a Jupyter Notebook\n",
    "\n",
    "import cv2\n",
    "from matplotlib import pyplot as plt\n",
    "\n",
    "#Import image\n",
    "image = cv2.imread(\"image1073.jpg\")\n",
    "gray =cv2.cvtColor(image, cv2.COLOR_RGB2BGR)\n",
    "#Show the image with matplotlib\n",
    "plt.imshow(gray)\n",
    "plt.show()"
   ]
  },
  {
   "cell_type": "code",
   "execution_count": null,
   "metadata": {},
   "outputs": [],
   "source": []
  },
  {
   "cell_type": "code",
   "execution_count": 2,
   "metadata": {},
   "outputs": [
    {
     "data": {
      "image/png": "[encoded data removed]",
      "text/plain": [
       "<Figure size 480x360 with 1 Axes>"
      ]
     },
     "metadata": {
      "needs_background": "light"
     },
     "output_type": "display_data"
    }
   ],
   "source": [
    "import cv2\n",
    "from matplotlib import pyplot as plt\n",
    "import matplotlib \n",
    "%matplotlib inline\n",
    "\n",
    "# Acquire default dots per inch value of matplotlib\n",
    "dpi = matplotlib.rcParams['figure.dpi']\n",
    "\n",
    "img = cv2.imread(\"image1073.jpg\")\n",
    "img =cv2.cvtColor(img, cv2.COLOR_RGB2BGR)\n",
    "\n",
    "# Determine the figures size in inches to fit your image\n",
    "height, width, depth = img.shape\n",
    "figsize = width / float(dpi), height / float(dpi)\n",
    "\n",
    "plt.figure(figsize=figsize)\n",
    "plt.imshow(img)\n",
    "plt.show()"
   ]
  },
  {
   "cell_type": "code",
   "execution_count": 3,
   "metadata": {},
   "outputs": [
    {
     "data": {
      "text/plain": [
       "(6.666666666666667, 5.0)"
      ]
     },
     "execution_count": 3,
     "metadata": {},
     "output_type": "execute_result"
    }
   ],
   "source": [
    "figsize"
   ]
  },
  {
   "cell_type": "code",
   "execution_count": null,
   "metadata": {},
   "outputs": [],
   "source": []
  },
  {
   "cell_type": "code",
   "execution_count": null,
   "metadata": {},
   "outputs": [],
   "source": []
  },
  {
   "cell_type": "code",
   "execution_count": null,
   "metadata": {},
   "outputs": [],
   "source": []
  },
  {
   "cell_type": "code",
   "execution_count": null,
   "metadata": {},
   "outputs": [],
   "source": []
  },
  {
   "cell_type": "code",
   "execution_count": null,
   "metadata": {},
   "outputs": [],
   "source": []
  },
  {
   "cell_type": "code",
   "execution_count": null,
   "metadata": {},
   "outputs": [],
   "source": []
  },
  {
   "cell_type": "code",
   "execution_count": null,
   "metadata": {},
   "outputs": [],
   "source": []
  }
 ],
 "metadata": {
  "kernelspec": {
   "display_name": "Python 3",
   "language": "python",
   "name": "python3"
  },
  "language_info": {
   "codemirror_mode": {
    "name": "ipython",
    "version": 3
   },
   "file_extension": ".py",
   "mimetype": "text/x-python",
   "name": "python",
   "nbconvert_exporter": "python",
   "pygments_lexer": "ipython3",
   "version": "3.6.13"
  }
 },
 "nbformat": 4,
 "nbformat_minor": 4
}
